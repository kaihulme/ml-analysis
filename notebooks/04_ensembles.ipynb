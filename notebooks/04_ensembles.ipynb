{
 "cells": [
  {
   "cell_type": "markdown",
   "id": "attempted-inquiry",
   "metadata": {},
   "source": [
    "# Ensembles"
   ]
  },
  {
   "cell_type": "code",
   "execution_count": 1,
   "id": "impaired-guitar",
   "metadata": {},
   "outputs": [],
   "source": [
    "import graphviz\n",
    "import numpy as np\n",
    "import pandas as pd\n",
    "import seaborn as sns\n",
    "import matplotlib.pyplot as plt\n",
    "from sklearn.tree import DecisionTreeRegressor, DecisionTreeClassifier, export_graphviz\n",
    "from sklearn.metrics import mean_squared_error, r2_score\n",
    "from sklearn.ensemble import AdaBoostClassifier\n",
    "from sklearn.datasets import fetch_openml\n",
    "from sklearn.model_selection import RandomizedSearchCV, GridSearchCV, train_test_split\n",
    "from california_data_pipeline import load_train_test\n",
    "import joblib"
   ]
  },
  {
   "cell_type": "markdown",
   "id": "southwest-frederick",
   "metadata": {},
   "source": [
    "## 2.4.1 CART Decision Trees\n",
    "\n",
    "This part extends the work from lab 7 to regression on the California Housing regression task. First, run a decision tree regressor for the California housing dataset, and contrast this with your previous Bayesian linear regression method. For this you can use the DecisionTreeRegressor class from Scikit-learn. Then, analyse the effect of the hyperparameters of the decision tree, such as the maximum depth of the tree or the maximum number of features to consider at each split. Look at the constructor of the DecisionTreeRegressor class to see what hyperparameters you can set.\n",
    "\n",
    "In your report, include the following (you may also wish to add further analysis of your own):\n",
    "\n",
    "1. A brief explanation of the CART decision tree method.\n",
    "2. A comparison of the results with those of Bayesian linear regression.\n",
    "3. Plot the relationship between a hyperparameter and the performance of the model.\n",
    "4. Optimise the hyperparameter on a validation set.\n",
    "5. Explain the effects you see when setting hyperparameters such as the maximum tree depth or maximum number of features.\n",
    "6. Visualise the tree and use the visualisation to describe the most important features and how the tree makes decisions."
   ]
  },
  {
   "cell_type": "markdown",
   "id": "interim-excess",
   "metadata": {},
   "source": [
    "First we shall import the (preprocessed) California housing data."
   ]
  },
  {
   "cell_type": "code",
   "execution_count": 3,
   "id": "talented-beijing",
   "metadata": {},
   "outputs": [
    {
     "data": {
      "text/html": [
       "<div>\n",
       "<style scoped>\n",
       "    .dataframe tbody tr th:only-of-type {\n",
       "        vertical-align: middle;\n",
       "    }\n",
       "\n",
       "    .dataframe tbody tr th {\n",
       "        vertical-align: top;\n",
       "    }\n",
       "\n",
       "    .dataframe thead th {\n",
       "        text-align: right;\n",
       "    }\n",
       "</style>\n",
       "<table border=\"1\" class=\"dataframe\">\n",
       "  <thead>\n",
       "    <tr style=\"text-align: right;\">\n",
       "      <th></th>\n",
       "      <th>MedInc</th>\n",
       "      <th>AveOccup</th>\n",
       "      <th>AveBedrmsPerRoom</th>\n",
       "      <th>AveAddRooms</th>\n",
       "      <th>EstHouses</th>\n",
       "      <th>DistToTown</th>\n",
       "    </tr>\n",
       "  </thead>\n",
       "  <tbody>\n",
       "    <tr>\n",
       "      <th>16838</th>\n",
       "      <td>0.470622</td>\n",
       "      <td>-0.045191</td>\n",
       "      <td>-1.066292</td>\n",
       "      <td>0.584973</td>\n",
       "      <td>-0.756150</td>\n",
       "      <td>0.430727</td>\n",
       "    </tr>\n",
       "    <tr>\n",
       "      <th>1557</th>\n",
       "      <td>-0.346817</td>\n",
       "      <td>-0.876441</td>\n",
       "      <td>-0.095777</td>\n",
       "      <td>0.446875</td>\n",
       "      <td>0.322899</td>\n",
       "      <td>3.021854</td>\n",
       "    </tr>\n",
       "    <tr>\n",
       "      <th>17703</th>\n",
       "      <td>-0.536600</td>\n",
       "      <td>0.042733</td>\n",
       "      <td>-0.203563</td>\n",
       "      <td>0.692833</td>\n",
       "      <td>-0.620244</td>\n",
       "      <td>1.500501</td>\n",
       "    </tr>\n",
       "    <tr>\n",
       "      <th>15017</th>\n",
       "      <td>-0.264414</td>\n",
       "      <td>-1.485525</td>\n",
       "      <td>1.136176</td>\n",
       "      <td>-1.225943</td>\n",
       "      <td>1.654169</td>\n",
       "      <td>-0.517790</td>\n",
       "    </tr>\n",
       "    <tr>\n",
       "      <th>10891</th>\n",
       "      <td>-0.139285</td>\n",
       "      <td>-0.019425</td>\n",
       "      <td>-0.024650</td>\n",
       "      <td>0.207728</td>\n",
       "      <td>0.611431</td>\n",
       "      <td>0.308059</td>\n",
       "    </tr>\n",
       "  </tbody>\n",
       "</table>\n",
       "</div>"
      ],
      "text/plain": [
       "         MedInc  AveOccup  AveBedrmsPerRoom  AveAddRooms  EstHouses  \\\n",
       "16838  0.470622 -0.045191         -1.066292     0.584973  -0.756150   \n",
       "1557  -0.346817 -0.876441         -0.095777     0.446875   0.322899   \n",
       "17703 -0.536600  0.042733         -0.203563     0.692833  -0.620244   \n",
       "15017 -0.264414 -1.485525          1.136176    -1.225943   1.654169   \n",
       "10891 -0.139285 -0.019425         -0.024650     0.207728   0.611431   \n",
       "\n",
       "       DistToTown  \n",
       "16838    0.430727  \n",
       "1557     3.021854  \n",
       "17703    1.500501  \n",
       "15017   -0.517790  \n",
       "10891    0.308059  "
      ]
     },
     "execution_count": 3,
     "metadata": {},
     "output_type": "execute_result"
    }
   ],
   "source": [
    "X_train, X_test, y_train, y_test = load_train_test()\n",
    "X_train.head()"
   ]
  },
  {
   "cell_type": "markdown",
   "id": "developed-order",
   "metadata": {},
   "source": [
    "We will also redefine the regression metrics helper function from the previous section."
   ]
  },
  {
   "cell_type": "code",
   "execution_count": 41,
   "id": "cloudy-promise",
   "metadata": {},
   "outputs": [],
   "source": [
    "# output R2, MSE and RMSE of regressor\n",
    "def reg_metrics(reg, reg_name, X, y, verbose=True):\n",
    "    reg_preds = reg.predict(X)\n",
    "    reg_r2 = r2_score(y, reg_preds)\n",
    "    reg_mse = mean_squared_error(y, reg_preds)\n",
    "    reg_rmse = mean_squared_error(y, reg_preds, squared=False)\n",
    "    if verbose:\n",
    "        print(f\"{reg_name} regression R2:   {reg_r2:.4f}\")\n",
    "        print(f\"{reg_name} regression MSE:  {reg_mse:.4f}\")\n",
    "        print(f\"{reg_name} regression RMSE: {reg_rmse:.4f}\")\n",
    "    return [reg_r2, reg_mse, reg_rmse]"
   ]
  },
  {
   "cell_type": "markdown",
   "id": "cardiac-prize",
   "metadata": {},
   "source": [
    "### CART Decision Trees\n",
    "\n",
    "Explain CART."
   ]
  },
  {
   "cell_type": "markdown",
   "id": "little-remark",
   "metadata": {},
   "source": [
    "Fit simple decision tree regressor."
   ]
  },
  {
   "cell_type": "code",
   "execution_count": 8,
   "id": "agricultural-estate",
   "metadata": {},
   "outputs": [
    {
     "data": {
      "text/plain": [
       "DecisionTreeRegressor()"
      ]
     },
     "execution_count": 8,
     "metadata": {},
     "output_type": "execute_result"
    }
   ],
   "source": [
    "reg_tree = DecisionTreeRegressor() # default hyperparameters\n",
    "reg_tree.fit(X_train, y_train)"
   ]
  },
  {
   "cell_type": "markdown",
   "id": "transparent-regulation",
   "metadata": {},
   "source": [
    "Evaluate decision tree using regression metrics."
   ]
  },
  {
   "cell_type": "code",
   "execution_count": 9,
   "id": "seventh-veteran",
   "metadata": {},
   "outputs": [
    {
     "name": "stdout",
     "output_type": "stream",
     "text": [
      "regression_tree regression R2:   0.4621\n",
      "regression_tree regression MSE:  0.5450\n",
      "regression_tree regression RMSE: 0.7382\n"
     ]
    }
   ],
   "source": [
    "reg_metrics(reg_tree, \"regression_tree\", X_test, y_test)"
   ]
  },
  {
   "cell_type": "markdown",
   "id": "radical-allowance",
   "metadata": {},
   "source": [
    "Performance is worse than Bayesian regression."
   ]
  },
  {
   "cell_type": "markdown",
   "id": "partial-edmonton",
   "metadata": {},
   "source": [
    "### Tree Depth\n",
    "\n",
    "Increasing the maximum depth of a decision tree can increase the complexity of the model, but it can also lead to overfitting. Let's see how cahnging it effects performance."
   ]
  },
  {
   "cell_type": "code",
   "execution_count": 96,
   "id": "bronze-edward",
   "metadata": {},
   "outputs": [],
   "source": [
    "depths = range(1,26)\n",
    "depths_df = pd.DataFrame([], columns=[\"Depth\", \"R2_train\", \"MSE_train\", \"RMSE_train\", \"R2_test\", \"MSE_test\", \"RMSE_test\"])\n",
    "\n",
    "for depth in depths:\n",
    "    depth_tree = DecisionTreeRegressor(max_depth=depth)\n",
    "    depth_tree.fit(X_train, y_train)\n",
    "    metrics = [depth]\n",
    "    metrics.extend(reg_metrics(\n",
    "        depth_tree, \n",
    "        \"{}_depth_tree\".format(depth), \n",
    "        X_train, y_train,\n",
    "        verbose=False,\n",
    "    ))\n",
    "    metrics.extend(reg_metrics(\n",
    "        depth_tree, \n",
    "        \"{}_depth_tree\".format(depth), \n",
    "        X_test, y_test,\n",
    "        verbose=False,\n",
    "    ))\n",
    "    depths_df.loc[len(depths_df)] = metrics"
   ]
  },
  {
   "cell_type": "code",
   "execution_count": 120,
   "id": "statutory-coordinate",
   "metadata": {},
   "outputs": [
    {
     "data": {
      "image/png": "[encoded data removed]",
      "text/plain": [
       "<Figure size 864x576 with 1 Axes>"
      ]
     },
     "metadata": {
      "needs_background": "light"
     },
     "output_type": "display_data"
    }
   ],
   "source": [
    "plt.figure(figsize=(12,8))\n",
    "plt.title(\"Decision Tree Regression Performance for Increasing Max-Depth\")\n",
    "palette = {\"R2_train\":\"#5A190C\",\n",
    "           \"MSE_train\":\"#A22D16\",\n",
    "           \"RMSE_train\":\"#E7654B\",\n",
    "           \"R2_test\":\"#424874\",\n",
    "           \"MSE_test\":\"#646BA6\",\n",
    "           \"RMSE_test\":\"#979DC3\",}\n",
    "sns.lineplot(\n",
    "    data=pd.melt(depths_df, ['Depth'], var_name=\"Metric\", value_name=\"Score\"), \n",
    "    x='Depth', y='Score', \n",
    "    hue='Metric',\n",
    "    palette=palette,\n",
    ")\n",
    "plt.xlim(1, 25)\n",
    "plt.ylim(0, 1)\n",
    "plt.show()"
   ]
  },
  {
   "cell_type": "markdown",
   "id": "imperial-turner",
   "metadata": {},
   "source": [
    "If we only look at the training results (red shades) we can see that as max tree depth increases, the performance increases with near-perfect results  (R2 of 1 and MSE/RMSE of 0) occuring at depths over 20. This makes sense as the added depth increases the complexity of the model allowing more xomplex relationships to be learned.\n",
    "\n",
    "However looking at the testing results (blue shades) we can see the model is clearly overfitting due to the separation of results between the training and testing sets. If we wish to maximise R2 (on unseen data) it seems a max depth somewhere between 4 and 8 would be ideal, for the testing data this seems to be 6 or 7. Max depths below 4 are underfitting and over 8 there is a lot over overfitting."
   ]
  },
  {
   "cell_type": "markdown",
   "id": "executed-retro",
   "metadata": {},
   "source": [
    "### Hyperparameter Optimisation"
   ]
  },
  {
   "cell_type": "code",
   "execution_count": 128,
   "id": "earlier-glory",
   "metadata": {},
   "outputs": [
    {
     "data": {
      "text/plain": [
       "{'max_depth': 7,\n",
       " 'max_features': 'auto',\n",
       " 'min_samples_leaf': 9,\n",
       " 'min_samples_split': 2}"
      ]
     },
     "execution_count": 128,
     "metadata": {},
     "output_type": "execute_result"
    }
   ],
   "source": [
    "max_features = ['auto', 'sqrt', 'log2']\n",
    "max_depth = np.arange(3, 10)\n",
    "min_samples_split = np.arange(2, 10)\n",
    "min_samples_leaf = np.arange(1, 10)\n",
    "\n",
    "param_grid = {\n",
    "    'max_features': max_features,\n",
    "    'max_depth': max_depth,\n",
    "    'min_samples_split': min_samples_split,\n",
    "    'min_samples_leaf': min_samples_leaf,\n",
    "}\n",
    "\n",
    "reg_tree_search = GridSearchCV(DecisionTreeRegressor(), param_grid, cv=5)\n",
    "reg_tree_search.fit(X_train, y_train)\n",
    "reg_tree_search.best_params_"
   ]
  },
  {
   "cell_type": "code",
   "execution_count": 129,
   "id": "eleven-paper",
   "metadata": {},
   "outputs": [
    {
     "name": "stdout",
     "output_type": "stream",
     "text": [
      "best_estimator regression R2:   0.6533\n",
      "best_estimator regression MSE:  0.3512\n",
      "best_estimator regression RMSE: 0.5927\n"
     ]
    },
    {
     "data": {
      "text/plain": [
       "[0.6533299155299052, 0.35123527676223054, 0.5926510581803011]"
      ]
     },
     "execution_count": 129,
     "metadata": {},
     "output_type": "execute_result"
    }
   ],
   "source": [
    "reg_metrics(reg_tree_search.best_estimator_, \"best_estimator\", X_test, y_test)"
   ]
  },
  {
   "cell_type": "markdown",
   "id": "abandoned-guest",
   "metadata": {},
   "source": [
    "### Decision Tree Visualisation\n",
    "\n",
    "As the depth of the optimised decision tree is quite high I shall reduce it for the visualisation so it is easier to view."
   ]
  },
  {
   "cell_type": "code",
   "execution_count": 144,
   "id": "conservative-fireplace",
   "metadata": {},
   "outputs": [
    {
     "data": {
      "image/svg+xml": [
       "<?xml version=\"1.0\" encoding=\"UTF-8\" standalone=\"no\"?>\n",
       "<!DOCTYPE svg PUBLIC \"-//W3C//DTD SVG 1.1//EN\"\n",
       " \"http://www.w3.org/Graphics/SVG/1.1/DTD/svg11.dtd\">\n",
       "<!-- Generated by graphviz version 2.43.0 (0)\n",
       " -->\n",
       "<!-- Title: Tree Pages: 1 -->\n",
       "<svg width=\"1032pt\" height=\"373pt\"\n",
       " viewBox=\"0.00 0.00 1031.50 373.00\" xmlns=\"http://www.w3.org/2000/svg\" xmlns:xlink=\"http://www.w3.org/1999/xlink\">\n",
       "<g id=\"graph0\" class=\"graph\" transform=\"scale(1 1) rotate(0) translate(4 369)\">\n",
       "<title>Tree</title>\n",
       "<polygon fill=\"white\" stroke=\"transparent\" points=\"-4,4 -4,-369 1027.5,-369 1027.5,4 -4,4\"/>\n",
       "<!-- 0 -->\n",
       "<g id=\"node1\" class=\"node\">\n",
       "<title>0</title>\n",
       "<path fill=\"#f2c09c\" stroke=\"black\" d=\"M569.5,-365C569.5,-365 459.5,-365 459.5,-365 453.5,-365 447.5,-359 447.5,-353 447.5,-353 447.5,-309 447.5,-309 447.5,-303 453.5,-297 459.5,-297 459.5,-297 569.5,-297 569.5,-297 575.5,-297 581.5,-303 581.5,-309 581.5,-309 581.5,-353 581.5,-353 581.5,-359 575.5,-365 569.5,-365\"/>\n",
       "<text text-anchor=\"start\" x=\"455.5\" y=\"-349.8\" font-family=\"Helvetica,sans-Serif\" font-size=\"14.00\">DistToTown ≤ 0.391</text>\n",
       "<text text-anchor=\"start\" x=\"476.5\" y=\"-334.8\" font-family=\"Helvetica,sans-Serif\" font-size=\"14.00\">mse = 1.005</text>\n",
       "<text text-anchor=\"start\" x=\"462\" y=\"-319.8\" font-family=\"Helvetica,sans-Serif\" font-size=\"14.00\">samples = 14735</text>\n",
       "<text text-anchor=\"start\" x=\"473.5\" y=\"-304.8\" font-family=\"Helvetica,sans-Serif\" font-size=\"14.00\">value = 0.005</text>\n",
       "</g>\n",
       "<!-- 1 -->\n",
       "<g id=\"node2\" class=\"node\">\n",
       "<title>1</title>\n",
       "<path fill=\"#eeae80\" stroke=\"black\" d=\"M432,-261C432,-261 343,-261 343,-261 337,-261 331,-255 331,-249 331,-249 331,-205 331,-205 331,-199 337,-193 343,-193 343,-193 432,-193 432,-193 438,-193 444,-199 444,-205 444,-205 444,-249 444,-249 444,-255 438,-261 432,-261\"/>\n",
       "<text text-anchor=\"start\" x=\"340.5\" y=\"-245.8\" font-family=\"Helvetica,sans-Serif\" font-size=\"14.00\">MedInc ≤ 0.564</text>\n",
       "<text text-anchor=\"start\" x=\"349.5\" y=\"-230.8\" font-family=\"Helvetica,sans-Serif\" font-size=\"14.00\">mse = 0.654</text>\n",
       "<text text-anchor=\"start\" x=\"339\" y=\"-215.8\" font-family=\"Helvetica,sans-Serif\" font-size=\"14.00\">samples = 9649</text>\n",
       "<text text-anchor=\"start\" x=\"346.5\" y=\"-200.8\" font-family=\"Helvetica,sans-Serif\" font-size=\"14.00\">value = 0.401</text>\n",
       "</g>\n",
       "<!-- 0&#45;&gt;1 -->\n",
       "<g id=\"edge1\" class=\"edge\">\n",
       "<title>0&#45;&gt;1</title>\n",
       "<path fill=\"none\" stroke=\"black\" d=\"M473.27,-296.88C461.62,-287.53 448.83,-277.26 436.77,-267.57\"/>\n",
       "<polygon fill=\"black\" stroke=\"black\" points=\"438.95,-264.83 428.96,-261.3 434.57,-270.29 438.95,-264.83\"/>\n",
       "<text text-anchor=\"middle\" x=\"431.67\" y=\"-282.45\" font-family=\"Helvetica,sans-Serif\" font-size=\"14.00\">True</text>\n",
       "</g>\n",
       "<!-- 8 -->\n",
       "<g id=\"node9\" class=\"node\">\n",
       "<title>8</title>\n",
       "<path fill=\"#f9e1d0\" stroke=\"black\" d=\"M691,-261C691,-261 600,-261 600,-261 594,-261 588,-255 588,-249 588,-249 588,-205 588,-205 588,-199 594,-193 600,-193 600,-193 691,-193 691,-193 697,-193 703,-199 703,-205 703,-205 703,-249 703,-249 703,-255 697,-261 691,-261\"/>\n",
       "<text text-anchor=\"start\" x=\"596\" y=\"-245.8\" font-family=\"Helvetica,sans-Serif\" font-size=\"14.00\">MedInc ≤ &#45;0.268</text>\n",
       "<text text-anchor=\"start\" x=\"607.5\" y=\"-230.8\" font-family=\"Helvetica,sans-Serif\" font-size=\"14.00\">mse = 0.806</text>\n",
       "<text text-anchor=\"start\" x=\"597\" y=\"-215.8\" font-family=\"Helvetica,sans-Serif\" font-size=\"14.00\">samples = 5086</text>\n",
       "<text text-anchor=\"start\" x=\"602\" y=\"-200.8\" font-family=\"Helvetica,sans-Serif\" font-size=\"14.00\">value = &#45;0.747</text>\n",
       "</g>\n",
       "<!-- 0&#45;&gt;8 -->\n",
       "<g id=\"edge8\" class=\"edge\">\n",
       "<title>0&#45;&gt;8</title>\n",
       "<path fill=\"none\" stroke=\"black\" d=\"M557.03,-296.88C569.04,-287.53 582.24,-277.26 594.68,-267.57\"/>\n",
       "<polygon fill=\"black\" stroke=\"black\" points=\"596.99,-270.2 602.73,-261.3 592.69,-264.68 596.99,-270.2\"/>\n",
       "<text text-anchor=\"middle\" x=\"599.65\" y=\"-282.41\" font-family=\"Helvetica,sans-Serif\" font-size=\"14.00\">False</text>\n",
       "</g>\n",
       "<!-- 2 -->\n",
       "<g id=\"node3\" class=\"node\">\n",
       "<title>2</title>\n",
       "<path fill=\"#f1bc96\" stroke=\"black\" d=\"M239.5,-157C239.5,-157 135.5,-157 135.5,-157 129.5,-157 123.5,-151 123.5,-145 123.5,-145 123.5,-101 123.5,-101 123.5,-95 129.5,-89 135.5,-89 135.5,-89 239.5,-89 239.5,-89 245.5,-89 251.5,-95 251.5,-101 251.5,-101 251.5,-145 251.5,-145 251.5,-151 245.5,-157 239.5,-157\"/>\n",
       "<text text-anchor=\"start\" x=\"131.5\" y=\"-141.8\" font-family=\"Helvetica,sans-Serif\" font-size=\"14.00\">AveOccup ≤ 0.082</text>\n",
       "<text text-anchor=\"start\" x=\"149.5\" y=\"-126.8\" font-family=\"Helvetica,sans-Serif\" font-size=\"14.00\">mse = 0.502</text>\n",
       "<text text-anchor=\"start\" x=\"139\" y=\"-111.8\" font-family=\"Helvetica,sans-Serif\" font-size=\"14.00\">samples = 6147</text>\n",
       "<text text-anchor=\"start\" x=\"150\" y=\"-96.8\" font-family=\"Helvetica,sans-Serif\" font-size=\"14.00\">value = 0.09</text>\n",
       "</g>\n",
       "<!-- 1&#45;&gt;2 -->\n",
       "<g id=\"edge2\" class=\"edge\">\n",
       "<title>1&#45;&gt;2</title>\n",
       "<path fill=\"none\" stroke=\"black\" d=\"M330.99,-197.18C309.17,-186.05 283.91,-173.17 260.73,-161.35\"/>\n",
       "<polygon fill=\"black\" stroke=\"black\" points=\"262.12,-158.13 251.62,-156.7 258.94,-164.36 262.12,-158.13\"/>\n",
       "</g>\n",
       "<!-- 5 -->\n",
       "<g id=\"node6\" class=\"node\">\n",
       "<title>5</title>\n",
       "<path fill=\"#e9965a\" stroke=\"black\" d=\"M432,-157C432,-157 343,-157 343,-157 337,-157 331,-151 331,-145 331,-145 331,-101 331,-101 331,-95 337,-89 343,-89 343,-89 432,-89 432,-89 438,-89 444,-95 444,-101 444,-101 444,-145 444,-145 444,-151 438,-157 432,-157\"/>\n",
       "<text text-anchor=\"start\" x=\"340.5\" y=\"-141.8\" font-family=\"Helvetica,sans-Serif\" font-size=\"14.00\">MedInc ≤ 1.417</text>\n",
       "<text text-anchor=\"start\" x=\"349.5\" y=\"-126.8\" font-family=\"Helvetica,sans-Serif\" font-size=\"14.00\">mse = 0.454</text>\n",
       "<text text-anchor=\"start\" x=\"339\" y=\"-111.8\" font-family=\"Helvetica,sans-Serif\" font-size=\"14.00\">samples = 3502</text>\n",
       "<text text-anchor=\"start\" x=\"346.5\" y=\"-96.8\" font-family=\"Helvetica,sans-Serif\" font-size=\"14.00\">value = 0.946</text>\n",
       "</g>\n",
       "<!-- 1&#45;&gt;5 -->\n",
       "<g id=\"edge5\" class=\"edge\">\n",
       "<title>1&#45;&gt;5</title>\n",
       "<path fill=\"none\" stroke=\"black\" d=\"M387.5,-192.88C387.5,-184.78 387.5,-175.98 387.5,-167.47\"/>\n",
       "<polygon fill=\"black\" stroke=\"black\" points=\"391,-167.3 387.5,-157.3 384,-167.3 391,-167.3\"/>\n",
       "</g>\n",
       "<!-- 3 -->\n",
       "<g id=\"node4\" class=\"node\">\n",
       "<title>3</title>\n",
       "<path fill=\"#efb083\" stroke=\"black\" d=\"M101,-53C101,-53 12,-53 12,-53 6,-53 0,-47 0,-41 0,-41 0,-12 0,-12 0,-6 6,0 12,0 12,0 101,0 101,0 107,0 113,-6 113,-12 113,-12 113,-41 113,-41 113,-47 107,-53 101,-53\"/>\n",
       "<text text-anchor=\"start\" x=\"18.5\" y=\"-37.8\" font-family=\"Helvetica,sans-Serif\" font-size=\"14.00\">mse = 0.553</text>\n",
       "<text text-anchor=\"start\" x=\"8\" y=\"-22.8\" font-family=\"Helvetica,sans-Serif\" font-size=\"14.00\">samples = 3113</text>\n",
       "<text text-anchor=\"start\" x=\"15.5\" y=\"-7.8\" font-family=\"Helvetica,sans-Serif\" font-size=\"14.00\">value = 0.362</text>\n",
       "</g>\n",
       "<!-- 2&#45;&gt;3 -->\n",
       "<g id=\"edge3\" class=\"edge\">\n",
       "<title>2&#45;&gt;3</title>\n",
       "<path fill=\"none\" stroke=\"black\" d=\"M141.68,-88.95C128.37,-79.34 113.86,-68.87 100.64,-59.34\"/>\n",
       "<polygon fill=\"black\" stroke=\"black\" points=\"102.34,-56.25 92.18,-53.24 98.24,-61.93 102.34,-56.25\"/>\n",
       "</g>\n",
       "<!-- 4 -->\n",
       "<g id=\"node5\" class=\"node\">\n",
       "<title>4</title>\n",
       "<path fill=\"#f4c8a9\" stroke=\"black\" d=\"M232,-53C232,-53 143,-53 143,-53 137,-53 131,-47 131,-41 131,-41 131,-12 131,-12 131,-6 137,0 143,0 143,0 232,0 232,0 238,0 244,-6 244,-12 244,-12 244,-41 244,-41 244,-47 238,-53 232,-53\"/>\n",
       "<text text-anchor=\"start\" x=\"149.5\" y=\"-37.8\" font-family=\"Helvetica,sans-Serif\" font-size=\"14.00\">mse = 0.297</text>\n",
       "<text text-anchor=\"start\" x=\"139\" y=\"-22.8\" font-family=\"Helvetica,sans-Serif\" font-size=\"14.00\">samples = 3034</text>\n",
       "<text text-anchor=\"start\" x=\"144\" y=\"-7.8\" font-family=\"Helvetica,sans-Serif\" font-size=\"14.00\">value = &#45;0.188</text>\n",
       "</g>\n",
       "<!-- 2&#45;&gt;4 -->\n",
       "<g id=\"edge4\" class=\"edge\">\n",
       "<title>2&#45;&gt;4</title>\n",
       "<path fill=\"none\" stroke=\"black\" d=\"M187.5,-88.95C187.5,-80.72 187.5,-71.85 187.5,-63.48\"/>\n",
       "<polygon fill=\"black\" stroke=\"black\" points=\"191,-63.24 187.5,-53.24 184,-63.24 191,-63.24\"/>\n",
       "</g>\n",
       "<!-- 6 -->\n",
       "<g id=\"node7\" class=\"node\">\n",
       "<title>6</title>\n",
       "<path fill=\"#eb9f68\" stroke=\"black\" d=\"M363,-53C363,-53 274,-53 274,-53 268,-53 262,-47 262,-41 262,-41 262,-12 262,-12 262,-6 268,0 274,0 274,0 363,0 363,0 369,0 375,-6 375,-12 375,-12 375,-41 375,-41 375,-47 369,-53 363,-53\"/>\n",
       "<text text-anchor=\"start\" x=\"280.5\" y=\"-37.8\" font-family=\"Helvetica,sans-Serif\" font-size=\"14.00\">mse = 0.368</text>\n",
       "<text text-anchor=\"start\" x=\"270\" y=\"-22.8\" font-family=\"Helvetica,sans-Serif\" font-size=\"14.00\">samples = 2465</text>\n",
       "<text text-anchor=\"start\" x=\"277.5\" y=\"-7.8\" font-family=\"Helvetica,sans-Serif\" font-size=\"14.00\">value = 0.745</text>\n",
       "</g>\n",
       "<!-- 5&#45;&gt;6 -->\n",
       "<g id=\"edge6\" class=\"edge\">\n",
       "<title>5&#45;&gt;6</title>\n",
       "<path fill=\"none\" stroke=\"black\" d=\"M363.37,-88.95C356.89,-80.07 349.87,-70.46 343.35,-61.54\"/>\n",
       "<polygon fill=\"black\" stroke=\"black\" points=\"346.02,-59.25 337.29,-53.24 340.36,-63.38 346.02,-59.25\"/>\n",
       "</g>\n",
       "<!-- 7 -->\n",
       "<g id=\"node8\" class=\"node\">\n",
       "<title>7</title>\n",
       "<path fill=\"#e58139\" stroke=\"black\" d=\"M494,-53C494,-53 405,-53 405,-53 399,-53 393,-47 393,-41 393,-41 393,-12 393,-12 393,-6 399,0 405,0 405,0 494,0 494,0 500,0 506,-6 506,-12 506,-12 506,-41 506,-41 506,-47 500,-53 494,-53\"/>\n",
       "<text text-anchor=\"start\" x=\"411.5\" y=\"-37.8\" font-family=\"Helvetica,sans-Serif\" font-size=\"14.00\">mse = 0.335</text>\n",
       "<text text-anchor=\"start\" x=\"401\" y=\"-22.8\" font-family=\"Helvetica,sans-Serif\" font-size=\"14.00\">samples = 1037</text>\n",
       "<text text-anchor=\"start\" x=\"408.5\" y=\"-7.8\" font-family=\"Helvetica,sans-Serif\" font-size=\"14.00\">value = 1.425</text>\n",
       "</g>\n",
       "<!-- 5&#45;&gt;7 -->\n",
       "<g id=\"edge7\" class=\"edge\">\n",
       "<title>5&#45;&gt;7</title>\n",
       "<path fill=\"none\" stroke=\"black\" d=\"M409.18,-88.95C414.95,-80.17 421.18,-70.66 426.99,-61.82\"/>\n",
       "<polygon fill=\"black\" stroke=\"black\" points=\"430.06,-63.52 432.61,-53.24 424.2,-59.68 430.06,-63.52\"/>\n",
       "</g>\n",
       "<!-- 9 -->\n",
       "<g id=\"node10\" class=\"node\">\n",
       "<title>9</title>\n",
       "<path fill=\"#fdf3ed\" stroke=\"black\" d=\"M691,-157C691,-157 600,-157 600,-157 594,-157 588,-151 588,-145 588,-145 588,-101 588,-101 588,-95 594,-89 600,-89 600,-89 691,-89 691,-89 697,-89 703,-95 703,-101 703,-101 703,-145 703,-145 703,-151 697,-157 691,-157\"/>\n",
       "<text text-anchor=\"start\" x=\"596\" y=\"-141.8\" font-family=\"Helvetica,sans-Serif\" font-size=\"14.00\">MedInc ≤ &#45;0.905</text>\n",
       "<text text-anchor=\"start\" x=\"607.5\" y=\"-126.8\" font-family=\"Helvetica,sans-Serif\" font-size=\"14.00\">mse = 0.567</text>\n",
       "<text text-anchor=\"start\" x=\"597\" y=\"-111.8\" font-family=\"Helvetica,sans-Serif\" font-size=\"14.00\">samples = 2849</text>\n",
       "<text text-anchor=\"start\" x=\"606\" y=\"-96.8\" font-family=\"Helvetica,sans-Serif\" font-size=\"14.00\">value = &#45;1.16</text>\n",
       "</g>\n",
       "<!-- 8&#45;&gt;9 -->\n",
       "<g id=\"edge9\" class=\"edge\">\n",
       "<title>8&#45;&gt;9</title>\n",
       "<path fill=\"none\" stroke=\"black\" d=\"M645.5,-192.88C645.5,-184.78 645.5,-175.98 645.5,-167.47\"/>\n",
       "<polygon fill=\"black\" stroke=\"black\" points=\"649,-167.3 645.5,-157.3 642,-167.3 649,-167.3\"/>\n",
       "</g>\n",
       "<!-- 12 -->\n",
       "<g id=\"node13\" class=\"node\">\n",
       "<title>12</title>\n",
       "<path fill=\"#f4caab\" stroke=\"black\" d=\"M887,-157C887,-157 798,-157 798,-157 792,-157 786,-151 786,-145 786,-145 786,-101 786,-101 786,-95 792,-89 798,-89 798,-89 887,-89 887,-89 893,-89 899,-95 899,-101 899,-101 899,-145 899,-145 899,-151 893,-157 887,-157\"/>\n",
       "<text text-anchor=\"start\" x=\"795.5\" y=\"-141.8\" font-family=\"Helvetica,sans-Serif\" font-size=\"14.00\">MedInc ≤ 0.682</text>\n",
       "<text text-anchor=\"start\" x=\"804.5\" y=\"-126.8\" font-family=\"Helvetica,sans-Serif\" font-size=\"14.00\">mse = 0.617</text>\n",
       "<text text-anchor=\"start\" x=\"794\" y=\"-111.8\" font-family=\"Helvetica,sans-Serif\" font-size=\"14.00\">samples = 2237</text>\n",
       "<text text-anchor=\"start\" x=\"799\" y=\"-96.8\" font-family=\"Helvetica,sans-Serif\" font-size=\"14.00\">value = &#45;0.221</text>\n",
       "</g>\n",
       "<!-- 8&#45;&gt;12 -->\n",
       "<g id=\"edge12\" class=\"edge\">\n",
       "<title>8&#45;&gt;12</title>\n",
       "<path fill=\"none\" stroke=\"black\" d=\"M703.01,-196.22C726.17,-184.23 753.01,-170.33 776.93,-157.95\"/>\n",
       "<polygon fill=\"black\" stroke=\"black\" points=\"778.67,-160.99 785.94,-153.29 775.45,-154.78 778.67,-160.99\"/>\n",
       "</g>\n",
       "<!-- 10 -->\n",
       "<g id=\"node11\" class=\"node\">\n",
       "<title>10</title>\n",
       "<path fill=\"#ffffff\" stroke=\"black\" d=\"M625,-53C625,-53 536,-53 536,-53 530,-53 524,-47 524,-41 524,-41 524,-12 524,-12 524,-6 530,0 536,0 536,0 625,0 625,0 631,0 637,-6 637,-12 637,-12 637,-41 637,-41 637,-47 631,-53 625,-53\"/>\n",
       "<text text-anchor=\"start\" x=\"546\" y=\"-37.8\" font-family=\"Helvetica,sans-Serif\" font-size=\"14.00\">mse = 0.54</text>\n",
       "<text text-anchor=\"start\" x=\"532\" y=\"-22.8\" font-family=\"Helvetica,sans-Serif\" font-size=\"14.00\">samples = 1430</text>\n",
       "<text text-anchor=\"start\" x=\"537\" y=\"-7.8\" font-family=\"Helvetica,sans-Serif\" font-size=\"14.00\">value = &#45;1.426</text>\n",
       "</g>\n",
       "<!-- 9&#45;&gt;10 -->\n",
       "<g id=\"edge10\" class=\"edge\">\n",
       "<title>9&#45;&gt;10</title>\n",
       "<path fill=\"none\" stroke=\"black\" d=\"M622.77,-88.95C616.66,-80.07 610.05,-70.46 603.91,-61.54\"/>\n",
       "<polygon fill=\"black\" stroke=\"black\" points=\"606.75,-59.49 598.2,-53.24 600.99,-63.46 606.75,-59.49\"/>\n",
       "</g>\n",
       "<!-- 11 -->\n",
       "<g id=\"node12\" class=\"node\">\n",
       "<title>11</title>\n",
       "<path fill=\"#fae7da\" stroke=\"black\" d=\"M756,-53C756,-53 667,-53 667,-53 661,-53 655,-47 655,-41 655,-41 655,-12 655,-12 655,-6 661,0 667,0 667,0 756,0 756,0 762,0 768,-6 768,-12 768,-12 768,-41 768,-41 768,-47 762,-53 756,-53\"/>\n",
       "<text text-anchor=\"start\" x=\"673.5\" y=\"-37.8\" font-family=\"Helvetica,sans-Serif\" font-size=\"14.00\">mse = 0.451</text>\n",
       "<text text-anchor=\"start\" x=\"663\" y=\"-22.8\" font-family=\"Helvetica,sans-Serif\" font-size=\"14.00\">samples = 1419</text>\n",
       "<text text-anchor=\"start\" x=\"668\" y=\"-7.8\" font-family=\"Helvetica,sans-Serif\" font-size=\"14.00\">value = &#45;0.893</text>\n",
       "</g>\n",
       "<!-- 9&#45;&gt;11 -->\n",
       "<g id=\"edge11\" class=\"edge\">\n",
       "<title>9&#45;&gt;11</title>\n",
       "<path fill=\"none\" stroke=\"black\" d=\"M668.58,-88.95C674.78,-80.07 681.49,-70.46 687.73,-61.54\"/>\n",
       "<polygon fill=\"black\" stroke=\"black\" points=\"690.67,-63.44 693.53,-53.24 684.93,-59.43 690.67,-63.44\"/>\n",
       "</g>\n",
       "<!-- 13 -->\n",
       "<g id=\"node14\" class=\"node\">\n",
       "<title>13</title>\n",
       "<path fill=\"#f6d2b8\" stroke=\"black\" d=\"M887,-53C887,-53 798,-53 798,-53 792,-53 786,-47 786,-41 786,-41 786,-12 786,-12 786,-6 792,0 798,0 798,0 887,0 887,0 893,0 899,-6 899,-12 899,-12 899,-41 899,-41 899,-47 893,-53 887,-53\"/>\n",
       "<text text-anchor=\"start\" x=\"804.5\" y=\"-37.8\" font-family=\"Helvetica,sans-Serif\" font-size=\"14.00\">mse = 0.499</text>\n",
       "<text text-anchor=\"start\" x=\"794\" y=\"-22.8\" font-family=\"Helvetica,sans-Serif\" font-size=\"14.00\">samples = 1645</text>\n",
       "<text text-anchor=\"start\" x=\"799\" y=\"-7.8\" font-family=\"Helvetica,sans-Serif\" font-size=\"14.00\">value = &#45;0.411</text>\n",
       "</g>\n",
       "<!-- 12&#45;&gt;13 -->\n",
       "<g id=\"edge13\" class=\"edge\">\n",
       "<title>12&#45;&gt;13</title>\n",
       "<path fill=\"none\" stroke=\"black\" d=\"M842.5,-88.95C842.5,-80.72 842.5,-71.85 842.5,-63.48\"/>\n",
       "<polygon fill=\"black\" stroke=\"black\" points=\"846,-63.24 842.5,-53.24 839,-63.24 846,-63.24\"/>\n",
       "</g>\n",
       "<!-- 14 -->\n",
       "<g id=\"node15\" class=\"node\">\n",
       "<title>14</title>\n",
       "<path fill=\"#efb287\" stroke=\"black\" d=\"M1011.5,-53C1011.5,-53 929.5,-53 929.5,-53 923.5,-53 917.5,-47 917.5,-41 917.5,-41 917.5,-12 917.5,-12 917.5,-6 923.5,0 929.5,0 929.5,0 1011.5,0 1011.5,0 1017.5,0 1023.5,-6 1023.5,-12 1023.5,-12 1023.5,-41 1023.5,-41 1023.5,-47 1017.5,-53 1011.5,-53\"/>\n",
       "<text text-anchor=\"start\" x=\"932.5\" y=\"-37.8\" font-family=\"Helvetica,sans-Serif\" font-size=\"14.00\">mse = 0.567</text>\n",
       "<text text-anchor=\"start\" x=\"925.5\" y=\"-22.8\" font-family=\"Helvetica,sans-Serif\" font-size=\"14.00\">samples = 592</text>\n",
       "<text text-anchor=\"start\" x=\"929.5\" y=\"-7.8\" font-family=\"Helvetica,sans-Serif\" font-size=\"14.00\">value = 0.307</text>\n",
       "</g>\n",
       "<!-- 12&#45;&gt;14 -->\n",
       "<g id=\"edge14\" class=\"edge\">\n",
       "<title>12&#45;&gt;14</title>\n",
       "<path fill=\"none\" stroke=\"black\" d=\"M887.27,-88.95C900.28,-79.34 914.46,-68.87 927.37,-59.34\"/>\n",
       "<polygon fill=\"black\" stroke=\"black\" points=\"929.67,-61.99 935.64,-53.24 925.52,-56.36 929.67,-61.99\"/>\n",
       "</g>\n",
       "</g>\n",
       "</svg>\n"
      ],
      "text/plain": [
       "<graphviz.files.Source at 0x7fa28642ca00>"
      ]
     },
     "metadata": {},
     "output_type": "display_data"
    }
   ],
   "source": [
    "smaller_tree = DecisionTreeRegressor(\n",
    "    max_depth=3,\n",
    "    max_features='auto',\n",
    "    min_samples_leaf=9,\n",
    "    min_samples_split=2\n",
    ")\n",
    "smaller_tree.fit(X_train, y_train)\n",
    "\n",
    "dot_data = export_graphviz(\n",
    "    smaller_tree, \n",
    "    out_file=None, \n",
    "    feature_names=X_train.columns, \n",
    "    class_names=y_train.columns, \n",
    "    filled=True, \n",
    "    rounded=True, \n",
    "    special_characters=True\n",
    ")  \n",
    "\n",
    "graph = graphviz.Source(dot_data)\n",
    "graph.render()\n",
    "display(graph)"
   ]
  },
  {
   "cell_type": "markdown",
   "id": "intellectual-salem",
   "metadata": {},
   "source": [
    "The CART algorithm has decided distance to nearest town as being the most deciding feature in the dataset. Median income seems to be the next most important being used all other nodes apart from one with average occupancy. These results align with my analysis of feature correlation after feature engineering, showing that the `DistToTown` and `MedInc` are the most correlated with median house value. These findings seem to make sense as housing is more expensive in cities and towns and people with higher income would be expected to have a more expensive house."
   ]
  },
  {
   "cell_type": "markdown",
   "id": "satisfied-program",
   "metadata": {},
   "source": [
    "---"
   ]
  },
  {
   "cell_type": "markdown",
   "id": "fifteen-tradition",
   "metadata": {},
   "source": [
    "## 2.4.2 Boosting\n",
    "\n",
    "This part adapts the Adaboost method from lab 7 to the MNIST classification task. First, implement and test Adaboost on the MNIST dataset. Use a decision tree as your base classifier. You can use either your implementation from lab 7 or the AdaBoostClassifier class from Scikit-learn. Next, analyse key hyperparameters: the depth of the decision tree and number of estimators (base classifiers) in the ensemble.\n",
    "\n",
    "In the report, please include the following points:\n",
    "\n",
    "1. Explain the intuition behind the Adaboost approach (you don’t need to provide all the steps or all the equations).\n",
    "2. Describe your results and compare them to those from the ANN and SVM.\n",
    "3. Plot the relationship between the maximum depth of the decision tree and the performance of the ensemble.\n",
    "4. Explain the effects of other hyperparameters, such as the number of estimators and learning rate.\n",
    "5. What do you think is a good choice for the number of estimators on this dataset?\n",
    "6. How much does the ensemble improve performance over a single base classifier?"
   ]
  },
  {
   "cell_type": "markdown",
   "id": "prostate-guatemala",
   "metadata": {},
   "source": [
    "Download, normalise and create MNIST train, validation and test sets."
   ]
  },
  {
   "cell_type": "code",
   "execution_count": 2,
   "id": "senior-housing",
   "metadata": {},
   "outputs": [],
   "source": [
    "X, y = fetch_openml('mnist_784', return_X_y=True)\n",
    "X_full = X / 255.0\n",
    "X_train, X_test, y_train, y_test = train_test_split(X, y, test_size=0.2)\n",
    "X_train, X_val, y_train, y_val = train_test_split(X_train, y_train, test_size=0.2)"
   ]
  },
  {
   "cell_type": "markdown",
   "id": "medical-antigua",
   "metadata": {},
   "source": [
    "### Decision Tree Classification"
   ]
  },
  {
   "cell_type": "code",
   "execution_count": 3,
   "id": "three-numbers",
   "metadata": {},
   "outputs": [
    {
     "data": {
      "text/plain": [
       "0.8692142857142857"
      ]
     },
     "execution_count": 3,
     "metadata": {},
     "output_type": "execute_result"
    }
   ],
   "source": [
    "clf_tree = DecisionTreeClassifier()\n",
    "clf_tree.fit(X_train, y_train)\n",
    "clf_tree.score(X_test, y_test)"
   ]
  },
  {
   "cell_type": "markdown",
   "id": "signal-department",
   "metadata": {},
   "source": [
    "Find optimised decision tree classifier."
   ]
  },
  {
   "cell_type": "code",
   "execution_count": null,
   "id": "wrong-pharmacy",
   "metadata": {},
   "outputs": [],
   "source": [
    "max_features = ['auto', 'sqrt', 'log2']\n",
    "max_depth = np.arange(3, 10)\n",
    "min_samples_split = np.arange(2, 10)\n",
    "min_samples_leaf = np.arange(1, 10)\n",
    "\n",
    "param_grid = {\n",
    "    'max_features': max_features,\n",
    "    'max_depth': max_depth,\n",
    "    'min_samples_split': min_samples_split,\n",
    "    'min_samples_leaf': min_samples_leaf,\n",
    "}\n",
    "\n",
    "clf_tree_search = GridSearchCV(DecisionTreeClassifier(), param_grid, cv=5)\n",
    "clf_tree_search.fit(X_train, y_train)\n",
    "clf_tree_search.best_params_"
   ]
  },
  {
   "cell_type": "code",
   "execution_count": null,
   "id": "empty-invasion",
   "metadata": {},
   "outputs": [],
   "source": [
    "clf_tree.best_score_"
   ]
  },
  {
   "cell_type": "markdown",
   "id": "golden-quantum",
   "metadata": {},
   "source": [
    "### AdaBoost\n",
    "\n"
   ]
  },
  {
   "cell_type": "code",
   "execution_count": null,
   "id": "theoretical-subscription",
   "metadata": {},
   "outputs": [],
   "source": [
    "adaboost = AdaBoostClassifier(DecisionTreeClassifier())\n",
    "adaboost.fit(X_train, y_train)"
   ]
  },
  {
   "cell_type": "code",
   "execution_count": null,
   "id": "handed-inclusion",
   "metadata": {},
   "outputs": [],
   "source": [
    "adaboost.score(X_test, y_test)"
   ]
  },
  {
   "cell_type": "markdown",
   "id": "sensitive-explorer",
   "metadata": {},
   "source": [
    "### Ensemble Depth"
   ]
  },
  {
   "cell_type": "code",
   "execution_count": null,
   "id": "entitled-resort",
   "metadata": {},
   "outputs": [],
   "source": [
    "depths = [2, 5, 8, 11, 14, 17, 20]\n",
    "depths_df = pd.DataFrame([], columns=[\"Depth\", \"Accuracy_train\", \"Accuracy_test\"])\n",
    "\n",
    "for depth in depths:\n",
    "    print(f\"Fitting depth {depth}...\")\n",
    "    depth_tree = AdaBoostClassifier(DecisionTreeClassifier(max_depth=depth))\n",
    "    depth_tree.fit(X_train, y_train)\n",
    "    metrics = [\n",
    "        depth,\n",
    "        depth_tree.score(X_train, y_train),\n",
    "        depth_tree.score(X_test, y_test),\n",
    "    ]\n",
    "    depths_df.loc[len(depths_df)] = metrics"
   ]
  },
  {
   "cell_type": "code",
   "execution_count": null,
   "id": "clear-attention",
   "metadata": {},
   "outputs": [],
   "source": [
    "plt.figure(figsize=(12,8))\n",
    "plt.title(\"Decision Tree Regression Performance for Increasing Max-Depth\")\n",
    "palette = {\n",
    "    \"Accuracy_train\":\"#5A190C\",\n",
    "    \"Accuracy_test\":\"#424874\",\n",
    "}\n",
    "sns.lineplot(\n",
    "    data=pd.melt(depths_df, ['Depth'], var_name=\"Metric\", value_name=\"Score\"), \n",
    "    x='Depth', y='Score', \n",
    "    hue='Metric',\n",
    "    palette=palette,\n",
    ")\n",
    "plt.xlim(1, 25)\n",
    "plt.ylim(0, 1)\n",
    "plt.show()"
   ]
  },
  {
   "cell_type": "markdown",
   "id": "polar-coral",
   "metadata": {},
   "source": [
    "### Hyperparameter Optimisation"
   ]
  },
  {
   "cell_type": "code",
   "execution_count": null,
   "id": "still-corpus",
   "metadata": {},
   "outputs": [],
   "source": [
    "n_estimators = [50, 100, 250, 500]\n",
    "learning_rate = [1, 2, 5, 10]\n",
    "\n",
    "param_grid = {\n",
    "    'n_estimators': n_estimators,\n",
    "    'learning_rate': learning_rate,\n",
    "}\n",
    "\n",
    "clf_tree_search = GridSearchCV(DecisionTreeClassifier(max_depth=), param_grid, cv=3)\n",
    "clf_tree_search.fit(X_train, y_train)\n",
    "clf_tree_search.best_params_"
   ]
  },
  {
   "cell_type": "code",
   "execution_count": null,
   "id": "contained-calgary",
   "metadata": {},
   "outputs": [],
   "source": []
  }
 ],
 "metadata": {
  "kernelspec": {
   "display_name": "Python 3",
   "language": "python",
   "name": "python3"
  },
  "language_info": {
   "codemirror_mode": {
    "name": "ipython",
    "version": 3
   },
   "file_extension": ".py",
   "mimetype": "text/x-python",
   "name": "python",
   "nbconvert_exporter": "python",
   "pygments_lexer": "ipython3",
   "version": "3.8.5"
  }
 },
 "nbformat": 4,
 "nbformat_minor": 5
}

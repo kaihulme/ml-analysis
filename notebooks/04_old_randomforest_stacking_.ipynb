{
 "cells": [
  {
   "cell_type": "markdown",
   "metadata": {},
   "source": [
    "# 4. Ensembles"
   ]
  },
  {
   "cell_type": "code",
   "execution_count": 1,
   "metadata": {},
   "outputs": [],
   "source": [
    "import numpy as np\n",
    "import pandas as pd\n",
    "import pymc3 as pm\n",
    "import seaborn as sns\n",
    "import matplotlib.pyplot as plt\n",
    "from sklearn.metrics import mean_squared_error, r2_score\n",
    "from sklearn.model_selection import RandomizedSearchCV, GridSearchCV\n",
    "from sklearn.tree import DecisionTreeRegressor\n",
    "from sklearn.ensemble import RandomForestRegressor, ExtraTreesRegressor, StackingRegressor\n",
    "from california_data_pipeline import load_train_test\n",
    "from bayesian_linear_regressor import BayesianLinearRegression\n",
    "import joblib"
   ]
  },
  {
   "cell_type": "markdown",
   "metadata": {},
   "source": [
    "## Ensemble intro"
   ]
  },
  {
   "cell_type": "markdown",
   "metadata": {},
   "source": [
    "### Wisdom of the crowd\n",
    "\n",
    "If you had a large group of people all take an estimate on how many marbles were in a jar you would get a wide range of answers. An expert on marble guessing may be in the top 10% of closest guesses, but they may still be far off.\n",
    "\n",
    "However if you had access to all these guesses and simply took the median of them all, you would likely be considered better than the experts. This phenomenon is known as the wisdom of the crowd; where the average guess often better than average."
   ]
  },
  {
   "cell_type": "markdown",
   "metadata": {},
   "source": [
    "### Ensemble methods\n",
    "\n",
    "Take the above example, but replace marble counters with machine learning models. The predictions of these models can be combined, each taking votes for classification or the results being averaged for regression. This ensemble of models will also outperform its individual components.\n",
    "\n",
    "A weak learner is a classifier which just better than average. If you created an ensemble of classifiers each with 51% accuracy, given enough weak learners, the ensemble model can perform very well becoming a strong learner."
   ]
  },
  {
   "cell_type": "markdown",
   "metadata": {},
   "source": [
    "### Bagging and pasting\n",
    "\n",
    "One way to create an ensemble is to use the same model on multiple subsets of the data. The individual results of each model are then combined together to get a results which is usually better than the best performing individual model.\n",
    "\n",
    "When samples are taken out of the dataset and not replaced this is known as pasting, when they are replaced bagging is being performed. Pasting means each model can learn individual patterns as there is no shared data, but a lot of data is needed for this to work well as you are affectively dividing the size of the dataset each model will learn on by the number of models in the ensemble.\n",
    "\n",
    "One benefit of bagging is that each of the classifiers may not see all of the data point in the training set even though data is being replaced. These unseen data points are known as out-of-bag samples and can be used to validate the models without the need for a seperate validation set which means more data can be used to train the model.\n",
    "\n",
    "Another method of bagging involves selecting a random number of features to use for that round of training. The idea being that removing some of the features during training rounds reduces an over-reliability on a few features and makes the model learn a more generalised pattern from the data. This is very similar to how dropout can help reduce overfitting in neural networks."
   ]
  },
  {
   "cell_type": "markdown",
   "metadata": {},
   "source": [
    "## 4.1 Random Forest\n",
    "\n",
    "### California housing data\n",
    "\n",
    "We shall be using the California housing dataset we used with Bayesian regression.\n",
    "\n",
    "As we have already performed our analysis on the data and selected and transformed our features we shall replicate the same data pipeline from the previous notebook.\n",
    "\n",
    "To do this I have implemented a transformation pipeline module which gets the California housing data, transforms and creates features as described previously and then returns the train and test data and real values. The function has optional parameters for test size and transformation type, see module for info."
   ]
  },
  {
   "cell_type": "code",
   "execution_count": 2,
   "metadata": {},
   "outputs": [],
   "source": [
    "X_train, X_test, y_train, y_test = load_train_test()"
   ]
  },
  {
   "cell_type": "code",
   "execution_count": 95,
   "metadata": {},
   "outputs": [
    {
     "data": {
      "text/html": [
       "<div>\n",
       "<style scoped>\n",
       "    .dataframe tbody tr th:only-of-type {\n",
       "        vertical-align: middle;\n",
       "    }\n",
       "\n",
       "    .dataframe tbody tr th {\n",
       "        vertical-align: top;\n",
       "    }\n",
       "\n",
       "    .dataframe thead th {\n",
       "        text-align: right;\n",
       "    }\n",
       "</style>\n",
       "<table border=\"1\" class=\"dataframe\">\n",
       "  <thead>\n",
       "    <tr style=\"text-align: right;\">\n",
       "      <th></th>\n",
       "      <th>MedInc</th>\n",
       "      <th>AveOccup</th>\n",
       "      <th>AveBedrmsPerRoom</th>\n",
       "      <th>AveAddRooms</th>\n",
       "      <th>EstHouses</th>\n",
       "      <th>DistToTown</th>\n",
       "    </tr>\n",
       "  </thead>\n",
       "  <tbody>\n",
       "    <tr>\n",
       "      <th>15536</th>\n",
       "      <td>-1.114001</td>\n",
       "      <td>-0.813383</td>\n",
       "      <td>1.616400</td>\n",
       "      <td>-1.473897</td>\n",
       "      <td>0.796013</td>\n",
       "      <td>-0.592870</td>\n",
       "    </tr>\n",
       "    <tr>\n",
       "      <th>12143</th>\n",
       "      <td>-0.914646</td>\n",
       "      <td>1.260378</td>\n",
       "      <td>-0.905558</td>\n",
       "      <td>1.550903</td>\n",
       "      <td>-1.113609</td>\n",
       "      <td>0.497750</td>\n",
       "    </tr>\n",
       "    <tr>\n",
       "      <th>9669</th>\n",
       "      <td>-0.258580</td>\n",
       "      <td>2.651988</td>\n",
       "      <td>1.785041</td>\n",
       "      <td>-2.053961</td>\n",
       "      <td>-1.649685</td>\n",
       "      <td>-1.150917</td>\n",
       "    </tr>\n",
       "    <tr>\n",
       "      <th>3005</th>\n",
       "      <td>-0.534559</td>\n",
       "      <td>-0.116728</td>\n",
       "      <td>0.497786</td>\n",
       "      <td>-0.324815</td>\n",
       "      <td>0.074911</td>\n",
       "      <td>2.346136</td>\n",
       "    </tr>\n",
       "    <tr>\n",
       "      <th>17756</th>\n",
       "      <td>-0.165095</td>\n",
       "      <td>-0.325182</td>\n",
       "      <td>-0.864095</td>\n",
       "      <td>0.789426</td>\n",
       "      <td>0.039902</td>\n",
       "      <td>1.489587</td>\n",
       "    </tr>\n",
       "  </tbody>\n",
       "</table>\n",
       "</div>"
      ],
      "text/plain": [
       "         MedInc  AveOccup  AveBedrmsPerRoom  AveAddRooms  EstHouses  DistToTown\n",
       "15536 -1.114001 -0.813383          1.616400    -1.473897   0.796013   -0.592870\n",
       "12143 -0.914646  1.260378         -0.905558     1.550903  -1.113609    0.497750\n",
       "9669  -0.258580  2.651988          1.785041    -2.053961  -1.649685   -1.150917\n",
       "3005  -0.534559 -0.116728          0.497786    -0.324815   0.074911    2.346136\n",
       "17756 -0.165095 -0.325182         -0.864095     0.789426   0.039902    1.489587"
      ]
     },
     "execution_count": 95,
     "metadata": {},
     "output_type": "execute_result"
    }
   ],
   "source": [
    "X_train.head()"
   ]
  },
  {
   "cell_type": "code",
   "execution_count": 5,
   "metadata": {},
   "outputs": [
    {
     "data": {
      "text/html": [
       "<div>\n",
       "<style scoped>\n",
       "    .dataframe tbody tr th:only-of-type {\n",
       "        vertical-align: middle;\n",
       "    }\n",
       "\n",
       "    .dataframe tbody tr th {\n",
       "        vertical-align: top;\n",
       "    }\n",
       "\n",
       "    .dataframe thead th {\n",
       "        text-align: right;\n",
       "    }\n",
       "</style>\n",
       "<table border=\"1\" class=\"dataframe\">\n",
       "  <thead>\n",
       "    <tr style=\"text-align: right;\">\n",
       "      <th></th>\n",
       "      <th>MedHouseVal</th>\n",
       "    </tr>\n",
       "  </thead>\n",
       "  <tbody>\n",
       "    <tr>\n",
       "      <th>15536</th>\n",
       "      <td>0.253606</td>\n",
       "    </tr>\n",
       "    <tr>\n",
       "      <th>12143</th>\n",
       "      <td>-1.014571</td>\n",
       "    </tr>\n",
       "    <tr>\n",
       "      <th>9669</th>\n",
       "      <td>-0.245760</td>\n",
       "    </tr>\n",
       "    <tr>\n",
       "      <th>3005</th>\n",
       "      <td>-1.446104</td>\n",
       "    </tr>\n",
       "    <tr>\n",
       "      <th>17756</th>\n",
       "      <td>-0.792733</td>\n",
       "    </tr>\n",
       "  </tbody>\n",
       "</table>\n",
       "</div>"
      ],
      "text/plain": [
       "       MedHouseVal\n",
       "15536     0.253606\n",
       "12143    -1.014571\n",
       "9669     -0.245760\n",
       "3005     -1.446104\n",
       "17756    -0.792733"
      ]
     },
     "execution_count": 5,
     "metadata": {},
     "output_type": "execute_result"
    }
   ],
   "source": [
    "y_train.head()"
   ]
  },
  {
   "cell_type": "markdown",
   "metadata": {},
   "source": [
    "### Decisions trees\n",
    "\n",
    "A decision tree performs classification or regression based on a flow-chart like graph, where an input to the tree starts at the root and makes its way through the tree based on conditions for each feature of the data point at each node of the tree. At the bottom of the tree is the output prediction for the input features. This is best demontsrated with a diagram \n",
    "\n",
    "- >>> INSERT DECISION TREE >>>\n",
    "\n",
    "Decision tree models are trained through supervised learning. The tree finds the optimal way to split the training data at each level, an example might be splitting the tree for houses that are less than 10km from LA and those which are not. The combination of these feature splits can result in very complex models being learned.\n",
    "\n",
    "We shall train a simple decision tree regressor with the preprocessed California housing data we just loaded in."
   ]
  },
  {
   "cell_type": "code",
   "execution_count": 58,
   "metadata": {},
   "outputs": [
    {
     "data": {
      "text/plain": [
       "DecisionTreeRegressor()"
      ]
     },
     "execution_count": 58,
     "metadata": {},
     "output_type": "execute_result"
    }
   ],
   "source": [
    "tree_reg = DecisionTreeRegressor()\n",
    "tree_reg.fit(X_train, y_train)"
   ]
  },
  {
   "cell_type": "markdown",
   "metadata": {},
   "source": [
    "We can then make predictions of the test set values and get scores for R2, MSE, RMSE."
   ]
  },
  {
   "cell_type": "code",
   "execution_count": 59,
   "metadata": {},
   "outputs": [],
   "source": [
    "# output R2, MSE and RMSE regressor\n",
    "def reg_metrics(reg, reg_name, X, y):\n",
    "    reg_preds = reg.predict(X)\n",
    "    reg_r2 = r2_score(y, reg_preds)\n",
    "    reg_mse = mean_squared_error(y, reg_preds)\n",
    "    reg_rmse = mean_squared_error(y, reg_preds, squared=False)\n",
    "    print(f\"{reg_name} regression R2:   {reg_r2:.4f}\")\n",
    "    print(f\"{reg_name} regression MSE:  {reg_mse:.4f}\")\n",
    "    print(f\"{reg_name} regression RMSE: {reg_rmse:.4f}\")"
   ]
  },
  {
   "cell_type": "code",
   "execution_count": 60,
   "metadata": {},
   "outputs": [
    {
     "name": "stdout",
     "output_type": "stream",
     "text": [
      "decision tree regression R2:   0.4151\n",
      "decision tree regression MSE:  0.5978\n",
      "decision tree regression RMSE: 0.7732\n"
     ]
    }
   ],
   "source": [
    "reg_metrics(tree_reg, \"decision tree\", X_test, y_test)"
   ]
  },
  {
   "cell_type": "markdown",
   "metadata": {},
   "source": [
    "As we have used the same data and the same preprocessing (albeit with different random test train split), we can make reasonably accurate comparisons between each of the models we have trained on the data.\n",
    "\n",
    "Looking at the metrics above we can see our decision tree has done quite well, although not as good of a fit as our Bayesian linear regression model.\n",
    "\n",
    "Lets see how we can apply ensemble methods to produce even better results."
   ]
  },
  {
   "cell_type": "markdown",
   "metadata": {},
   "source": [
    "### Random forest\n",
    "\n",
    "A random forest is an ensemble of decision trees. Using bagging, a number of decision trees are trained together on sub-sets of the training data. The results from each tree are the agregated, producing a result far better than each of its parts.\n",
    "\n",
    "Random forests also implement the random feature selection mentioned previously. Instead of splitting the tree with the best feature, it takes a subset of the features and finds the best split in that. This allows for more features to be utilised by the model and deeper patterns to be learned over non-randomising the feature sets.\n",
    "\n",
    "As above we shall train on the test data and analyse the results, but this time with an ensemble of 10 decision trees."
   ]
  },
  {
   "cell_type": "code",
   "execution_count": 127,
   "metadata": {},
   "outputs": [
    {
     "data": {
      "text/plain": [
       "RandomForestRegressor(n_estimators=10)"
      ]
     },
     "execution_count": 127,
     "metadata": {},
     "output_type": "execute_result"
    }
   ],
   "source": [
    "forest_reg = RandomForestRegressor(n_estimators=10)\n",
    "forest_reg.fit(X_train, np.ravel(y_train))"
   ]
  },
  {
   "cell_type": "code",
   "execution_count": 128,
   "metadata": {},
   "outputs": [
    {
     "name": "stdout",
     "output_type": "stream",
     "text": [
      "random forest regression R2:   0.6738\n",
      "random forest regression MSE:  0.3310\n",
      "random forest regression RMSE: 0.5753\n"
     ]
    }
   ],
   "source": [
    "reg_metrics(forest_reg, \"random forest\", X_test, y_test)"
   ]
  },
  {
   "cell_type": "markdown",
   "metadata": {},
   "source": [
    "With just 10 trees, we have managed to increase R2 and decrease both MSE and RMSE significantly.\n",
    "\n",
    "Lets try increasing the number of estimators to further benefit from the windom of the crowds."
   ]
  },
  {
   "cell_type": "code",
   "execution_count": 138,
   "metadata": {},
   "outputs": [
    {
     "name": "stdout",
     "output_type": "stream",
     "text": [
      "random forest regression R2:   0.6956\n",
      "random forest regression MSE:  0.3089\n",
      "random forest regression RMSE: 0.5558\n"
     ]
    }
   ],
   "source": [
    "forest_reg = RandomForestRegressor(n_estimators=100)\n",
    "forest_reg.fit(X_train, np.ravel(y_train))\n",
    "reg_metrics(forest_reg, \"random forest\", X_test, y_test)"
   ]
  },
  {
   "cell_type": "markdown",
   "metadata": {},
   "source": [
    "Lets check how well it fit to the data it was tested on and see if we are overfitting."
   ]
  },
  {
   "cell_type": "code",
   "execution_count": 139,
   "metadata": {},
   "outputs": [
    {
     "name": "stdout",
     "output_type": "stream",
     "text": [
      "random forest regression R2:   0.9576\n",
      "random forest regression MSE:  0.0426\n",
      "random forest regression RMSE: 0.2064\n"
     ]
    }
   ],
   "source": [
    "reg_metrics(forest_reg, \"random forest\", X_train, y_train)"
   ]
  },
  {
   "cell_type": "markdown",
   "metadata": {},
   "source": [
    "It seems like the model has overfit and not generalised to the test set as well as it could have. Increasing the number of estimators and constraining the tree depth should force the ensemble to generalise more as it learns more important patterns."
   ]
  },
  {
   "cell_type": "code",
   "execution_count": 140,
   "metadata": {},
   "outputs": [
    {
     "name": "stdout",
     "output_type": "stream",
     "text": [
      "random forest test regression R2:   0.6954\n",
      "random forest test regression MSE:  0.3090\n",
      "random forest test regression RMSE: 0.5559\n"
     ]
    }
   ],
   "source": [
    "forest_reg = RandomForestRegressor(n_estimators=5000, max_depth=10, n_jobs=-1)\n",
    "forest_reg.fit(X_train, np.ravel(y_train))\n",
    "reg_metrics(forest_reg, \"random forest test\", X_test, y_test)"
   ]
  },
  {
   "cell_type": "code",
   "execution_count": 141,
   "metadata": {},
   "outputs": [
    {
     "name": "stdout",
     "output_type": "stream",
     "text": [
      "random forest train regression R2:   0.8158\n",
      "random forest train regression MSE:  0.1851\n",
      "random forest train regression RMSE: 0.4302\n"
     ]
    }
   ],
   "source": [
    "reg_metrics(forest_reg, \"random forest train\", X_train, y_train)"
   ]
  },
  {
   "cell_type": "markdown",
   "metadata": {},
   "source": [
    "As expected we have constrained each model and forcing each to learn stronger patterns helps the ensemble generalise more. Although we have overfit the training set it does seem there is more we can do.\n",
    "\n",
    "We shall run a random hyper parameter search on some different parameters to get a better idea of optimal tree constraints."
   ]
  },
  {
   "cell_type": "markdown",
   "metadata": {},
   "source": [
    "Random forest default parameters:\n",
    "- n_estimators=100,\n",
    "- max_depth=Non\n",
    "- min_samples_split=2\n",
    "- min_samples_leaf=1\n",
    "- min_weight_fraction_leaf=0.0\n",
    "- max_features='auto'\n",
    "- max_leaf_nodes=None\n",
    "- min_impurity_decrease=0.0\n",
    "- min_impurity_split=None\n",
    "- bootstrap=True\n",
    "- ccp_alpha=0.0\n",
    "- max_samples=None"
   ]
  },
  {
   "cell_type": "code",
   "execution_count": 96,
   "metadata": {},
   "outputs": [],
   "source": [
    "n_estimators = np.arange(100, 1000)\n",
    "max_features = ['auto', 'sqrt', 'log2']\n",
    "max_depth = np.arange(3, 20)\n",
    "min_samples_split = np.arange(1, 100)\n",
    "min_samples_leaf = np.arange(1, 100)\n",
    "bootstrap = [True, False]\n",
    "\n",
    "forest_grid = {'n_estimators': n_estimators,xticks(np.arange(0, 1, step=0.2))\n",
    "               'max_features': max_features,\n",
    "               'max_depth': max_depth,\n",
    "               'min_samples_split': min_samples_split,\n",
    "               'min_samples_leaf': min_samples_leaf,\n",
    "               'bootstrap': bootstrap}\n",
    "\n",
    "forest_reg = RandomForestRegressor()\n",
    "\n",
    "forest_randomcv = RandomizedSearchCV(forest_reg, forest_grid, n_iter=100, cv=2)"
   ]
  },
  {
   "cell_type": "code",
   "execution_count": 97,
   "metadata": {},
   "outputs": [
    {
     "data": {
      "text/plain": [
       "RandomizedSearchCV(cv=2, estimator=RandomForestRegressor(), n_iter=100,\n",
       "                   param_distributions={'bootstrap': [True, False],\n",
       "                                        'max_depth': array([ 3,  4,  5,  6,  7,  8,  9, 10, 11, 12, 13, 14, 15, 16, 17, 18, 19]),\n",
       "                                        'max_features': ['auto', 'sqrt',\n",
       "                                                         'log2'],\n",
       "                                        'min_samples_leaf': array([ 1,  2,  3,  4,  5,  6,  7,  8,  9, 10, 11, 12, 13, 14, 15, 16, 17,\n",
       "       18, 19, 20, 21, 22, 23, 24, 25, 26, 27, 28, 29, 30, 31, 32, 33, 34,\n",
       "       35, 36, 37, 38, 3...\n",
       "       906, 907, 908, 909, 910, 911, 912, 913, 914, 915, 916, 917, 918,\n",
       "       919, 920, 921, 922, 923, 924, 925, 926, 927, 928, 929, 930, 931,\n",
       "       932, 933, 934, 935, 936, 937, 938, 939, 940, 941, 942, 943, 944,\n",
       "       945, 946, 947, 948, 949, 950, 951, 952, 953, 954, 955, 956, 957,\n",
       "       958, 959, 960, 961, 962, 963, 964, 965, 966, 967, 968, 969, 970,\n",
       "       971, 972, 973, 974, 975, 976, 977, 978, 979, 980, 981, 982, 983,\n",
       "       984, 985, 986, 987, 988, 989, 990, 991, 992, 993, 994, 995, 996,\n",
       "       997, 998, 999])})"
      ]
     },
     "execution_count": 97,
     "metadata": {},
     "output_type": "execute_result"
    }
   ],
   "source": [
    "forest_randomcv.fit(X_train, np.ravel(y_train))"
   ]
  },
  {
   "cell_type": "markdown",
   "metadata": {},
   "source": [
    "As this takes a while we shall pickle and unpickle the search object."
   ]
  },
  {
   "cell_type": "code",
   "execution_count": 101,
   "metadata": {},
   "outputs": [
    {
     "data": {
      "text/plain": [
       "['forest_randomcv2.pkl']"
      ]
     },
     "execution_count": 101,
     "metadata": {},
     "output_type": "execute_result"
    }
   ],
   "source": [
    "joblib.dump(forest_randomcv, 'forest_randomcv2.pkl')"
   ]
  },
  {
   "cell_type": "code",
   "execution_count": 111,
   "metadata": {},
   "outputs": [],
   "source": [
    "forest_randomcv = joblib.load('forest_randomcv2.pkl')"
   ]
  },
  {
   "cell_type": "markdown",
   "metadata": {},
   "source": [
    "We can now look at the best parameters from the search."
   ]
  },
  {
   "cell_type": "code",
   "execution_count": 113,
   "metadata": {},
   "outputs": [
    {
     "data": {
      "text/plain": [
       "{'n_estimators': 704,\n",
       " 'min_samples_split': 21,\n",
       " 'min_samples_leaf': 14,\n",
       " 'max_features': 'sqrt',\n",
       " 'max_depth': 12,\n",
       " 'bootstrap': True}"
      ]
     },
     "execution_count": 113,
     "metadata": {},
     "output_type": "execute_result"
    }
   ],
   "source": [
    "forest_randomcv.best_params_"
   ]
  },
  {
   "cell_type": "markdown",
   "metadata": {},
   "source": [
    "Some intial insights are that increasing the number of trees in the ensemble improves performance, this makes sense as we further benefit from the effect of wisom of the crowds. Boostrapping be set to true also makes sense as the dataset isnt huge so more training data variety for each tree should improve overall performance. It seems we were also right in constraining the max depth of the tree, similar results can be seen from limiting the maximum number of features - I shall go more in depth with this later on. As for the increase in minimum samples this also makes sense as stronger decision boundaries have to be made, i.e. a boundary cannot be put between 2 samples. This means the model should generalise more.\n",
    "\n",
    "\n",
    "Now lets load this into a new random forest and evaluate it on the test set."
   ]
  },
  {
   "cell_type": "code",
   "execution_count": 144,
   "metadata": {},
   "outputs": [],
   "source": [
    "best_forest = forest_randomcv.best_estimator_"
   ]
  },
  {
   "cell_type": "code",
   "execution_count": 293,
   "metadata": {},
   "outputs": [
    {
     "name": "stdout",
     "output_type": "stream",
     "text": [
      "best random forest regressor regression R2:   0.7419\n",
      "best random forest regressor regression MSE:  0.2619\n",
      "best random forest regressor regression RMSE: 0.5118\n"
     ]
    }
   ],
   "source": [
    "reg_metrics(best_forest, \"best random forest regressor\", X_test, y_test)"
   ]
  },
  {
   "cell_type": "markdown",
   "metadata": {},
   "source": [
    "We have managed to get a 10% increase the R2 score, whilst also reducing MSE and RMSE.\n",
    "\n",
    "Let's also check the results on the training data to see how well it generalised."
   ]
  },
  {
   "cell_type": "code",
   "execution_count": 147,
   "metadata": {},
   "outputs": [
    {
     "name": "stdout",
     "output_type": "stream",
     "text": [
      "best random forest test regression R2:   0.7512\n",
      "best random forest test regression MSE:  0.2499\n",
      "best random forest test regression RMSE: 0.4999\n"
     ]
    }
   ],
   "source": [
    "reg_metrics(best_forest, \"best random forest test\", X_train, y_train)"
   ]
  },
  {
   "cell_type": "markdown",
   "metadata": {},
   "source": [
    "An almost perfect generalisation! Although the training R2 score has decreased, this is actually a good sign as it indicates a reduction in overfitting when combined with the increased performance on the testing set. This result is also in part to the model being tested using cross-validation."
   ]
  },
  {
   "cell_type": "markdown",
   "metadata": {},
   "source": [
    "### Trees in a forest\n",
    "\n",
    "To visualise how the number of trees in the ensemble affects the training time and accuracy score trade-off I run a grid search with increasing numbers of estimators. This will allow me to check training times as well as training and testing scores from the cross-validation.\n",
    "\n",
    "- Plot the trade off between training time and performance\n",
    "- What is the optimal (wrt. training time and accuracy) number of trees"
   ]
  },
  {
   "cell_type": "code",
   "execution_count": 190,
   "metadata": {
    "collapsed": true,
    "jupyter": {
     "outputs_hidden": true
    }
   },
   "outputs": [
    {
     "data": {
      "text/plain": [
       "GridSearchCV(cv=2,\n",
       "             estimator=RandomForestRegressor(max_depth=12, max_features='sqrt',\n",
       "                                             min_samples_leaf=14,\n",
       "                                             min_samples_split=21,\n",
       "                                             n_estimators=704),\n",
       "             param_grid={'n_estimators': [1, 4, 7, 10, 13, 16, 19, 22, 25, 28,\n",
       "                                          31, 34, 37, 40, 43, 46, 49, 52, 55,\n",
       "                                          58, 61, 64, 67, 70, 73, 77, 80, 83,\n",
       "                                          86, 89, ...]},\n",
       "             return_train_score=True)"
      ]
     },
     "execution_count": 190,
     "metadata": {},
     "output_type": "execute_result"
    }
   ],
   "source": [
    "n_forest_grid = {'n_estimators': [int(x) for x in np.linspace(1, 150, 50)]}\n",
    "\n",
    "n_forest_gridsearch = GridSearchCV(best_forest,\n",
    "                                   param_grid=n_forest_grid,\n",
    "                                   cv=2, return_train_score=True)\n",
    "\n",
    "n_forest_gridsearch.fit(X_train, np.ravel(y_train))"
   ]
  },
  {
   "cell_type": "markdown",
   "metadata": {},
   "source": [
    "Now we have our results we can plot `n_estimators` against training time and score."
   ]
  },
  {
   "cell_type": "code",
   "execution_count": 292,
   "metadata": {},
   "outputs": [
    {
     "data": {
      "text/plain": [
       "Text(0.5, 1.0, 'Time to train random forest with increasing number of trees')"
      ]
     },
     "execution_count": 292,
     "metadata": {},
     "output_type": "execute_result"
    },
    {
     "data": {
      "image/png": "[encoded data removed]",
      "text/plain": [
       "<Figure size 1296x576 with 2 Axes>"
      ]
     },
     "metadata": {
      "needs_background": "light"
     },
     "output_type": "display_data"
    }
   ],
   "source": [
    "df = pd.DataFrame()\n",
    "df['Number of trees'] = n_forest_gridsearch.cv_results_['param_n_estimators']\n",
    "df['Training time'] = n_forest_gridsearch.cv_results_['mean_fit_time']\n",
    "df['Train R2 score'] = n_forest_gridsearch.cv_results_['mean_train_score']\n",
    "df['Test R2 score'] = n_forest_gridsearch.cv_results_['mean_test_score']\n",
    "\n",
    "fig1_df = df[['Number of trees', 'Train R2 score', 'Test R2 score']]\n",
    "fig1_df = pd.melt(fig1_df, ['Number of trees'], var_name=\"\",\n",
    "                  value_name=\"R2 score\")\n",
    "\n",
    "fig, ax = plt.subplots(figsize=(18, 8))\n",
    "\n",
    "plt.subplot(121)\n",
    "fig1 = sns.lineplot(data=fig1_df, x='Number of trees', y='R2 score', hue='')\n",
    "fig1.set(xlim=[1, 150], ylim=[0.55, 0.8])\n",
    "fig1.set_title(\"R2 score for random forest with increasing number of trees\")\n",
    "\n",
    "plt.subplot(122)\n",
    "fig2 = sns.lineplot(data=df, x=\"Number of trees\", y=\"Training time\")\n",
    "fig2.set(xlim=[1, 150], ylim=[0, 1])\n",
    "fig2.set_title(\"Time to train random forest with increasing number of trees\")"
   ]
  },
  {
   "cell_type": "markdown",
   "metadata": {},
   "source": [
    "From the above graphs we can see that adding more trees to the model only increases its performance up to a point where it begins to level of sharply. This is likely due to a limit in the amount of data or the small number of features meaning it can be represented by a reletively small number of trees and still produce a good score. From the graph on the right we can see that training time scales linearly with then number of additional trees added to the forest. From these results it seems around 15-20 decision trees in our random forest ensemble would produce optimal results with minimal complexity."
   ]
  },
  {
   "cell_type": "markdown",
   "metadata": {},
   "source": [
    "### Limiting branches and features\n",
    "\n",
    "As we saw with our randomised search recuding tree depth gave good results for our model. Forcing each tree to be unable to learn highly complex patterns in the data means it must find stronger decision boundaries in order to perform well. These stronger decision boundaries result in a more robust model which better generalises.\n",
    "\n",
    "Reducing the max features from the number of features to the sqaure root of that number has also proved useful. I figure this makes the regressor learn from a wider variety of features than always relying on a few strong ones such as median income.\n",
    "\n",
    "Similarly to above we can run grid searches for `max_depth` and `max_features` and aboserve their affects on the accuracy of the model."
   ]
  },
  {
   "cell_type": "code",
   "execution_count": 301,
   "metadata": {},
   "outputs": [
    {
     "data": {
      "text/plain": [
       "GridSearchCV(cv=2,\n",
       "             estimator=RandomForestRegressor(max_depth=12, max_features='sqrt',\n",
       "                                             min_samples_leaf=14,\n",
       "                                             min_samples_split=21,\n",
       "                                             n_estimators=704),\n",
       "             param_grid={'max_depth': [1, 2, 4, 5, 7, 8, 10, 11, 13, 14, 16, 17,\n",
       "                                       19, 20, 22, 23, 25, 26, 28, 30]},\n",
       "             return_train_score=True)"
      ]
     },
     "execution_count": 301,
     "metadata": {},
     "output_type": "execute_result"
    }
   ],
   "source": [
    "depth_grid = {'max_depth': [int(x) for x in np.linspace(1, 30, 20)]}\n",
    "depth_gridsearch = GridSearchCV(best_forest,\n",
    "                                param_grid=depth_grid,\n",
    "                                cv=2, return_train_score=True)\n",
    "depth_gridsearch.fit(X_train, np.ravel(y_train))"
   ]
  },
  {
   "cell_type": "code",
   "execution_count": 302,
   "metadata": {},
   "outputs": [
    {
     "data": {
      "text/plain": [
       "GridSearchCV(cv=2,\n",
       "             estimator=RandomForestRegressor(max_depth=12, max_features='sqrt',\n",
       "                                             min_samples_leaf=14,\n",
       "                                             min_samples_split=21,\n",
       "                                             n_estimators=704),\n",
       "             param_grid={'max_features': [1, 2, 3, 4, 5, 6]},\n",
       "             return_train_score=True)"
      ]
     },
     "execution_count": 302,
     "metadata": {},
     "output_type": "execute_result"
    }
   ],
   "source": [
    "n_features = X_train.shape[1]\n",
    "features_grid = {'max_features': [int(x) for x in range(1, n_features+1)]}\n",
    "features_gridsearch = GridSearchCV(best_forest,\n",
    "                                   param_grid=features_grid,\n",
    "                                   cv=2, return_train_score=True)\n",
    "features_gridsearch.fit(X_train, np.ravel(y_train))"
   ]
  },
  {
   "cell_type": "markdown",
   "metadata": {},
   "source": [
    "Now we can plot these agaist their test and training scores during cross-validation."
   ]
  },
  {
   "cell_type": "code",
   "execution_count": 308,
   "metadata": {},
   "outputs": [
    {
     "data": {
      "text/plain": [
       "Text(0.5, 1.0, 'Random Forest with Increasing Number of Features Condisered')"
      ]
     },
     "execution_count": 308,
     "metadata": {},
     "output_type": "execute_result"
    },
    {
     "data": {
      "image/png": "[encoded data removed]",
      "text/plain": [
       "<Figure size 1296x576 with 2 Axes>"
      ]
     },
     "metadata": {
      "needs_background": "light"
     },
     "output_type": "display_data"
    }
   ],
   "source": [
    "df1 = pd.DataFrame()\n",
    "df1['Max depth'] = depth_gridsearch.cv_results_['param_max_depth']\n",
    "df1['Train R2 score'] = depth_gridsearch.cv_results_['mean_train_score']\n",
    "df1['Test R2 score'] = depth_gridsearch.cv_results_['mean_test_score']\n",
    "fig1_df = df1[['Max depth', 'Train R2 score', 'Test R2 score']]\n",
    "fig1_df = pd.melt(fig1_df, ['Max depth'], var_name=\"\",\n",
    "                  value_name=\"R2 score\")\n",
    "\n",
    "df2 = pd.DataFrame()\n",
    "df2['Max features'] = features_gridsearch.cv_results_['param_max_features']\n",
    "df2['Train R2 score'] = features_gridsearch.cv_results_['mean_train_score']\n",
    "df2['Test R2 score'] = features_gridsearch.cv_results_['mean_test_score']\n",
    "fig2_df = df2[['Max features', 'Train R2 score', 'Test R2 score']]\n",
    "fig2_df = pd.melt(fig2_df, ['Max features'], var_name=\"\",\n",
    "                  value_name=\"R2 score\")\n",
    "\n",
    "\n",
    "fig, ax = plt.subplots(figsize=(18, 8))\n",
    "\n",
    "plt.subplot(121)\n",
    "fig1 = sns.lineplot(data=fig1_df, x='Max depth', y='R2 score', hue='')\n",
    "fig1.set(xlim=[1, 30], ylim=[0.3, 0.9])\n",
    "fig1.set_title(\"Random Forest with Increasing Depth of Decision Trees\")\n",
    "\n",
    "plt.subplot(122)\n",
    "fig2 = sns.lineplot(data=fig2_df, x=\"Max features\", y=\"R2 score\", hue='')\n",
    "fig2.set(xlim=[1, 6], ylim=[0.65, 0.8])\n",
    "fig2.set_title(\"Random Forest with Increasing Number of Features Condisered\")"
   ]
  },
  {
   "cell_type": "markdown",
   "metadata": {},
   "source": [
    "It seems that increasing the max depth of decision trees past 10 has no affect on the model's performance. This is likely due to some other part of the model causing trees not to be grown past this point. Increasing max-depth past this point therefore has no benefit.\n",
    "\n",
    "When considering features at each not it seems using more than 3 tends to overfit. We can see this as the testing accuracy starts to drop from 4 onwards, while training scores continue to increase. Either considering 2 or 3 features seems to be best, as they are so close 2 features may be the better choice if we wish to generalise better. \n",
    "\n",
    "Out current random forest has a max depth of 12 and max features of sqrt(6) = 2, which is very close to the optimal values from the above graphs so we shall keep out current trained model as it is already producing good results."
   ]
  },
  {
   "cell_type": "markdown",
   "metadata": {},
   "source": [
    "### Extremely randomised trees\n",
    "\n",
    "Also called extra trees, extremely randomised trees are an additional extension to the random forest. Where random forests select the best split of a random subset of features, extra trees further increase randomness by selecting a random threshold for each feature.\n",
    "\n",
    "This can produce models which learn more generalised patterns, but their main benifit is they have a much lower computational complexity than random forests.\n",
    "\n",
    "Lets create an extra tree regressor and see how it performs on the training data.\n",
    "\n",
    "- Additional check of extra trees vs random forest\n",
    "    - use opt forest params for both\n",
    "    - or quick grid search for extra trees"
   ]
  },
  {
   "cell_type": "code",
   "execution_count": 313,
   "metadata": {},
   "outputs": [
    {
     "name": "stdout",
     "output_type": "stream",
     "text": [
      "extra trees test regression R2:   0.7014\n",
      "extra trees test regression MSE:  0.3030\n",
      "extra trees test regression RMSE: 0.5505\n"
     ]
    }
   ],
   "source": [
    "extra_reg = ExtraTreesRegressor()\n",
    "extra_reg.fit(X_train, np.ravel(y_train))\n",
    "reg_metrics(extra_reg, \"extra trees test\", X_test, y_test)"
   ]
  },
  {
   "cell_type": "markdown",
   "metadata": {},
   "source": [
    "With the default parameters we get an R2 score on the test set very close to our optimised random forest. \n",
    "\n",
    "Lets see how it performed on the training set."
   ]
  },
  {
   "cell_type": "code",
   "execution_count": 314,
   "metadata": {},
   "outputs": [
    {
     "name": "stdout",
     "output_type": "stream",
     "text": [
      "extra trees test regression R2:   1.0000\n",
      "extra trees test regression MSE:  0.0000\n",
      "extra trees test regression RMSE: 0.0000\n"
     ]
    }
   ],
   "source": [
    "reg_metrics(extra_reg, \"extra trees test\", X_train, y_train)"
   ]
  },
  {
   "cell_type": "markdown",
   "metadata": {},
   "source": [
    "Thats not good, it has completely fit to the training set. We will need to constrain the model to get it to generalise.\n",
    "\n",
    "We shall use the parameters from out optimal model and compare them with the random forest to get an idea of which performs better for our task."
   ]
  },
  {
   "cell_type": "code",
   "execution_count": 329,
   "metadata": {},
   "outputs": [
    {
     "name": "stdout",
     "output_type": "stream",
     "text": [
      "extra trees train regression R2:   0.5848\n",
      "extra trees train regression MSE:  0.4170\n",
      "extra trees train regression RMSE: 0.6458\n",
      "extra trees test  regression R2:   0.5699\n",
      "extra trees test  regression MSE:  0.4364\n",
      "extra trees test  regression RMSE: 0.6606\n"
     ]
    }
   ],
   "source": [
    "extra_reg = ExtraTreesRegressor(n_estimators=20,\n",
    "                                min_samples_split=20,\n",
    "                                min_samples_leaf=10,\n",
    "                                max_features='sqrt',\n",
    "                                max_depth=10,\n",
    "                                bootstrap=True)\n",
    "extra_reg.fit(X_train, np.ravel(y_train))\n",
    "reg_metrics(extra_reg, \"extra trees train\", X_train, y_train)\n",
    "reg_metrics(extra_reg, \"extra trees test \", X_test, y_test)"
   ]
  },
  {
   "cell_type": "markdown",
   "metadata": {},
   "source": [
    "It seems the optimal parameters are not transferable between random forests and extra trees so we will need to run another random search."
   ]
  },
  {
   "cell_type": "code",
   "execution_count": null,
   "metadata": {},
   "outputs": [],
   "source": [
    "n_estimators = np.arange(100, 1000)\n",
    "max_features = ['auto', 'sqrt', 'log2']\n",
    "max_depth = np.arange(3, 20)\n",
    "min_samples_split = np.arange(1, 100)\n",
    "min_samples_leaf = np.arange(1, 100)\n",
    "bootstrap = [True, False]\n",
    "\n",
    "extra_grid = {'n_estimators': n_estimators,\n",
    "              'max_features': max_features,\n",
    "              'max_depth': max_depth,\n",
    "              'min_samples_split': min_samples_split,\n",
    "              'min_samples_leaf': min_samples_leaf,\n",
    "              'bootstrap': bootstrap}\n",
    "\n",
    "extra_reg = ExtraTreesRegressor()\n",
    "\n",
    "extra_randomcv = RandomizedSearchCV(extra_reg, extra_grid, n_iter=100, cv=2)"
   ]
  },
  {
   "cell_type": "code",
   "execution_count": null,
   "metadata": {},
   "outputs": [],
   "source": [
    "extra_randomcv.fit(X_train, np.ravel(y_train))"
   ]
  },
  {
   "cell_type": "code",
   "execution_count": 324,
   "metadata": {},
   "outputs": [
    {
     "data": {
      "text/plain": [
       "['extra_randomcv.pkl']"
      ]
     },
     "execution_count": 324,
     "metadata": {},
     "output_type": "execute_result"
    }
   ],
   "source": [
    "joblib.dump(extra_randomcv, 'extra_randomcv.pkl')"
   ]
  },
  {
   "cell_type": "code",
   "execution_count": 325,
   "metadata": {},
   "outputs": [
    {
     "data": {
      "text/plain": [
       "{'n_estimators': 618,\n",
       " 'min_samples_split': 58,\n",
       " 'min_samples_leaf': 1,\n",
       " 'max_features': 'auto',\n",
       " 'max_depth': 14,\n",
       " 'bootstrap': False}"
      ]
     },
     "execution_count": 325,
     "metadata": {},
     "output_type": "execute_result"
    }
   ],
   "source": [
    "extra_randomcv.best_params_"
   ]
  },
  {
   "cell_type": "code",
   "execution_count": 328,
   "metadata": {},
   "outputs": [
    {
     "name": "stdout",
     "output_type": "stream",
     "text": [
      "extra trees train regression R2:   0.7409\n",
      "extra trees train regression MSE:  0.2602\n",
      "extra trees train regression RMSE: 0.5101\n",
      "extra trees test  regression R2:   0.7296\n",
      "extra trees test  regression MSE:  0.2744\n",
      "extra trees test  regression RMSE: 0.5238\n"
     ]
    }
   ],
   "source": [
    "best_extra = extra_randomcv.best_estimator_\n",
    "reg_metrics(best_extra, \"extra trees train\", X_train, y_train)\n",
    "reg_metrics(best_extra, \"extra trees test \", X_test, y_test)"
   ]
  },
  {
   "cell_type": "markdown",
   "metadata": {},
   "source": [
    "Without further parameter exploration it seems that we have reached a performance similar to the random forest. As performance is relatively similar I shall continue with the `RandomForestRegressor` as not not need to optimise hyperparameters further."
   ]
  },
  {
   "cell_type": "markdown",
   "metadata": {},
   "source": [
    "### Interpreting a forest\n",
    "\n",
    "- Easier to look at a decision tree but still too large to comprehend\n",
    "    - nothing to learn from looking at the tree that the model hasnt learnt already\n",
    "- Decision trees are weak learners\n",
    "    - small change in input can lead to different trees\n",
    "    - look at .feature_importance_ for a few subsets\n",
    "- Random forests are much stronger learners\n",
    "    - look at .feature_importance_ for same subsets\n",
    "    - shouldnt change as much as decision tree"
   ]
  },
  {
   "cell_type": "markdown",
   "metadata": {},
   "source": [
    ".## 4.2 Stacking"
   ]
  },
  {
   "cell_type": "markdown",
   "metadata": {},
   "source": [
    "### Stacking\n",
    "\n",
    "Stacking takes the idea of ensemble learning further by replacing the simple model agrigation methods such as voting and averaging with another model which is trained by each model's votes. Each model in the prediction ensemble gives its results to a blending model which outputs a final result.\n",
    "\n",
    "- >>> Stacking diagram <<<"
   ]
  },
  {
   "cell_type": "markdown",
   "metadata": {},
   "source": [
    "### Stacking random forests\n",
    "\n",
    "- Stack random forests together\n",
    "- Compare to optimal random forest\n",
    "- Create ensemble of random forests and take mean of results\n",
    "- Compare to stacked and normal random forest"
   ]
  },
  {
   "cell_type": "code",
   "execution_count": 331,
   "metadata": {},
   "outputs": [],
   "source": [
    "forest_reg = best_forest\n",
    "\n",
    "estimators = [('forest_reg0', forest_reg),\n",
    "              ('forest_reg1', forest_reg),\n",
    "              ('forest_reg2', forest_reg)]\n",
    "\n",
    "blender = DecisionTreeRegressor(max_depth=10)\n",
    "\n",
    "stacking_forest = StackingRegressor(estimators=estimators,\n",
    "                                    final_estimator=blender)"
   ]
  },
  {
   "cell_type": "markdown",
   "metadata": {},
   "source": [
    "We can now fit the stacking ensemble to the training data a normal regression model."
   ]
  },
  {
   "cell_type": "code",
   "execution_count": 333,
   "metadata": {},
   "outputs": [
    {
     "data": {
      "text/plain": [
       "StackingRegressor(estimators=[('forest_reg0',\n",
       "                               RandomForestRegressor(max_depth=12,\n",
       "                                                     max_features='sqrt',\n",
       "                                                     min_samples_leaf=14,\n",
       "                                                     min_samples_split=21,\n",
       "                                                     n_estimators=704)),\n",
       "                              ('forest_reg1',\n",
       "                               RandomForestRegressor(max_depth=12,\n",
       "                                                     max_features='sqrt',\n",
       "                                                     min_samples_leaf=14,\n",
       "                                                     min_samples_split=21,\n",
       "                                                     n_estimators=704)),\n",
       "                              ('forest_reg2',\n",
       "                               RandomForestRegressor(max_depth=12,\n",
       "                                                     max_features='sqrt',\n",
       "                                                     min_samples_leaf=14,\n",
       "                                                     min_samples_split=21,\n",
       "                                                     n_estimators=704))],\n",
       "                  final_estimator=DecisionTreeRegressor(max_depth=10))"
      ]
     },
     "execution_count": 333,
     "metadata": {},
     "output_type": "execute_result"
    }
   ],
   "source": [
    "stacking_forest.fit(X_train, np.ravel(y_train))"
   ]
  },
  {
   "cell_type": "markdown",
   "metadata": {},
   "source": [
    "We can now analyse the results on the test set."
   ]
  },
  {
   "cell_type": "code",
   "execution_count": 334,
   "metadata": {},
   "outputs": [
    {
     "name": "stdout",
     "output_type": "stream",
     "text": [
      "stacking random forest test regression R2:   0.6575\n",
      "stacking random forest test regression MSE:  0.3476\n",
      "stacking random forest test regression RMSE: 0.5895\n"
     ]
    }
   ],
   "source": [
    "reg_metrics(stacking_forest, \"stacking random forest test\", X_test, y_test)"
   ]
  },
  {
   "cell_type": "markdown",
   "metadata": {},
   "source": [
    "It seems stacking together our optimised random forest has not produced results better than what we had originally.\n",
    "\n",
    "It may be better to stack together smaller random forests with less estimators."
   ]
  },
  {
   "cell_type": "code",
   "execution_count": 339,
   "metadata": {},
   "outputs": [
    {
     "name": "stdout",
     "output_type": "stream",
     "text": [
      "stacking random forest test regression R2:   0.6450\n",
      "stacking random forest test regression MSE:  0.3602\n",
      "stacking random forest test regression RMSE: 0.6002\n"
     ]
    }
   ],
   "source": [
    "forest_reg = RandomForestRegressor(n_estimators=10, max_depth=10)\n",
    "estimators = [('forest_reg0', forest_reg),\n",
    "              ('forest_reg1', forest_reg),\n",
    "              ('forest_reg2', forest_reg),\n",
    "              ('forest_reg3', forest_reg),\n",
    "              ('forest_reg4', forest_reg),\n",
    "              ('forest_reg5', forest_reg),\n",
    "              ('forest_reg6', forest_reg),\n",
    "              ('forest_reg7', forest_reg),\n",
    "              ('forest_reg8', forest_reg),\n",
    "              ('forest_reg9', forest_reg)]\n",
    "blender = DecisionTreeRegressor(max_depth=10)\n",
    "stacking_forest = StackingRegressor(estimators=estimators,\n",
    "                                    final_estimator=blender)\n",
    "stacking_forest.fit(X_train, np.ravel(y_train))\n",
    "reg_metrics(stacking_forest, \"stacking random forest test\", X_test, y_test)"
   ]
  },
  {
   "cell_type": "markdown",
   "metadata": {},
   "source": [
    "### Bayesian linear regression\n",
    "\n",
    "In the previous task I created a Scikit-learn wrapper for the PyMC3 baysian linear regression model I created for the California housing data. I shall use this in my stacking ensemble."
   ]
  },
  {
   "cell_type": "code",
   "execution_count": 45,
   "metadata": {},
   "outputs": [
    {
     "name": "stdout",
     "output_type": "stream",
     "text": [
      "MedHouseVal Index(['MedInc', 'AveOccup', 'AveBedrmsPerRoom', 'AveAddRooms', 'EstHouses',\n",
      "       'DistToTown'],\n",
      "      dtype='object')\n"
     ]
    }
   ],
   "source": [
    "import bayesian_linear_regressor as br\n",
    "import importlib\n",
    "importlib.reload(br)\n",
    "\n",
    "X_train, X_test, y_train, y_test = load_train_test()\n",
    "target = y_train.columns[0]\n",
    "features = X_train.columns\n",
    "\n",
    "bayesian_reg = br.BayesianLinearRegression(target=target,\n",
    "                                           features=features,\n",
    "                                           is_frame=False)"
   ]
  },
  {
   "cell_type": "markdown",
   "metadata": {},
   "source": [
    "Note: as the bayesian linear regression model produces a probability distribution rather than a single estimate, the predict method of the class predicts using the mean of the samples from the distribution. This means I can return a R2 score allowing iheritance of Scikit-learn `base.RegressorMixin` and stacking with `StackingRegressor`. \n",
    "\n",
    "The formula for the model must also be specified in the constructor as `StackingRegressor` converts Pandas data frames to Numpy arrays and we lose the column names used to specify the model."
   ]
  },
  {
   "cell_type": "markdown",
   "metadata": {},
   "source": [
    "### Stacking random forest and bayesian linear regression\n",
    "\n",
    "The stacking architecture will be a random forest and bayesian linear regressor in one layer. For the blender model I shall use a simple decision tree.\n",
    "\n",
    ">>> Stacking architecture diagram\n",
    "\n",
    "To implement this stacking ensemble I shall use scikit-learn's `StackingRegressor`."
   ]
  },
  {
   "cell_type": "code",
   "execution_count": 46,
   "metadata": {},
   "outputs": [],
   "source": [
    "# bayesian_regressor = br.BayesianLinearRegression(formula=formula)\n",
    "forest_reg = RandomForestRegressor(n_estimators=10, max_depth=10)\n",
    "\n",
    "estimators = [('forest_reg', forest_reg),\n",
    "              ('bayesian_reg', bayesian_reg)]\n",
    "\n",
    "blender = DecisionTreeRegressor(max_depth=10)\n",
    "\n",
    "bayesian_forest_stack = StackingRegressor(estimators=estimators,\n",
    "                                          final_estimator=blender)"
   ]
  },
  {
   "cell_type": "markdown",
   "metadata": {},
   "source": [
    "Now we can fit this to the California housing data."
   ]
  },
  {
   "cell_type": "code",
   "execution_count": 47,
   "metadata": {},
   "outputs": [
    {
     "name": "stderr",
     "output_type": "stream",
     "text": [
      "Auto-assigning NUTS sampler...\n",
      "Initializing NUTS using jitter+adapt_diag...\n",
      "Multiprocess sampling (8 chains in 8 jobs)\n",
      "NUTS: [sd, DistToTown, EstHouses, AveAddRooms, AveBedrmsPerRoom, AveOccup, MedInc, Intercept]\n",
      "Sampling 8 chains, 0 divergences: 100%|██████████| 56000/56000 [01:00<00:00, 921.36draws/s] \n",
      "Auto-assigning NUTS sampler...\n",
      "Initializing NUTS using jitter+adapt_diag...\n",
      "Multiprocess sampling (8 chains in 8 jobs)\n",
      "NUTS: [sd, DistToTown, EstHouses, AveAddRooms, AveBedrmsPerRoom, AveOccup, MedInc, Intercept]\n",
      "Sampling 8 chains, 0 divergences: 100%|██████████| 56000/56000 [00:40<00:00, 1393.34draws/s]\n",
      "Auto-assigning NUTS sampler...\n",
      "Initializing NUTS using jitter+adapt_diag...\n",
      "Multiprocess sampling (8 chains in 8 jobs)\n",
      "NUTS: [sd, DistToTown, EstHouses, AveAddRooms, AveBedrmsPerRoom, AveOccup, MedInc, Intercept]\n",
      "Sampling 8 chains, 0 divergences: 100%|██████████| 56000/56000 [00:38<00:00, 1465.24draws/s]\n",
      "Auto-assigning NUTS sampler...\n",
      "Initializing NUTS using jitter+adapt_diag...\n",
      "Multiprocess sampling (8 chains in 8 jobs)\n",
      "NUTS: [sd, DistToTown, EstHouses, AveAddRooms, AveBedrmsPerRoom, AveOccup, MedInc, Intercept]\n",
      "Sampling 8 chains, 0 divergences: 100%|██████████| 56000/56000 [00:39<00:00, 1401.45draws/s]\n",
      "Auto-assigning NUTS sampler...\n",
      "Initializing NUTS using jitter+adapt_diag...\n",
      "Multiprocess sampling (8 chains in 8 jobs)\n",
      "NUTS: [sd, DistToTown, EstHouses, AveAddRooms, AveBedrmsPerRoom, AveOccup, MedInc, Intercept]\n",
      "Sampling 8 chains, 0 divergences: 100%|██████████| 56000/56000 [00:40<00:00, 1371.27draws/s]\n",
      "Auto-assigning NUTS sampler...\n",
      "Initializing NUTS using jitter+adapt_diag...\n",
      "Multiprocess sampling (8 chains in 8 jobs)\n",
      "NUTS: [sd, DistToTown, EstHouses, AveAddRooms, AveBedrmsPerRoom, AveOccup, MedInc, Intercept]\n",
      "Sampling 8 chains, 0 divergences: 100%|██████████| 56000/56000 [00:40<00:00, 1378.25draws/s]\n"
     ]
    },
    {
     "data": {
      "text/plain": [
       "StackingRegressor(estimators=[('forest_reg',\n",
       "                               RandomForestRegressor(max_depth=10,\n",
       "                                                     n_estimators=10)),\n",
       "                              ('bayesian_reg',\n",
       "                               BayesianLinearRegression(features=Index(['MedInc', 'AveOccup', 'AveBedrmsPerRoom', 'AveAddRooms', 'EstHouses',\n",
       "       'DistToTown'],\n",
       "      dtype='object'),\n",
       "                                                        is_frame=False,\n",
       "                                                        target='MedHouseVal'))],\n",
       "                  final_estimator=DecisionTreeRegressor(max_depth=10))"
      ]
     },
     "execution_count": 47,
     "metadata": {},
     "output_type": "execute_result"
    }
   ],
   "source": [
    "bayesian_forest_stack.fit(X_train, np.ravel(y_train))"
   ]
  },
  {
   "cell_type": "markdown",
   "metadata": {},
   "source": [
    "Now we can look at the R2 score using the score function on the test data."
   ]
  },
  {
   "cell_type": "code",
   "execution_count": 48,
   "metadata": {},
   "outputs": [
    {
     "data": {
      "text/plain": [
       "0.6457899136492046"
      ]
     },
     "execution_count": 48,
     "metadata": {},
     "output_type": "execute_result"
    }
   ],
   "source": [
    "bayesian_forest_stack.score(X_test, y_test)"
   ]
  },
  {
   "cell_type": "markdown",
   "metadata": {},
   "source": [
    "This gives us a similar score to our random forest stack, but we only used two models. We can add more models and even more layers to try and get a better result."
   ]
  },
  {
   "cell_type": "markdown",
   "metadata": {},
   "source": [
    "### Multi-layer stacking\n",
    "\n",
    "The idea of stacking can be extended further, allowing multiple layers of stacked models on-top of eachother. The layers of models can also be different types of models themselves. \n",
    "\n",
    "I shall use this method to stack together a random forest regressor and a bayesian linear regressor. The idea being that the two varied approaches to regression come together for a stronger solution."
   ]
  },
  {
   "cell_type": "code",
   "execution_count": 50,
   "metadata": {},
   "outputs": [],
   "source": [
    "# linear regressors for stacking\n",
    "bayesian_reg = br.BayesianLinearRegression(target=target,\n",
    "                                           features=features,\n",
    "                                           is_frame=False)\n",
    "forest_reg = RandomForestRegressor(n_estimators=10,\n",
    "                                   max_depth=10)\n",
    "tree_reg = DecisionTreeRegressor(max_depth=10)\n",
    "\n",
    "# stacking layers\n",
    "bayesian_estimators = [('bayesian_reg0', bayesian_reg),\n",
    "                       ('bayesian_reg1', bayesian_reg),\n",
    "                       ('bayesian_reg2', bayesian_reg)]\n",
    "forest_estimators = [('forest_reg0', forest_reg),\n",
    "                     ('forest_reg1', forest_reg),\n",
    "                     ('forest_reg2', forest_reg)]\n",
    "blender = tree_reg\n",
    "\n",
    "# multi-layer stack\n",
    "internal_stack = StackingRegressor(estimators=forest_estimators,\n",
    "                                   final_estimator=blender)\n",
    "layered_br_stack = StackingRegressor(estimators=bayesian_estimators,\n",
    "                                     final_estimator=internal_stack)"
   ]
  },
  {
   "cell_type": "markdown",
   "metadata": {},
   "source": [
    "Now we can fit this to the data."
   ]
  },
  {
   "cell_type": "code",
   "execution_count": 52,
   "metadata": {
    "collapsed": true,
    "jupyter": {
     "outputs_hidden": true
    }
   },
   "outputs": [
    {
     "name": "stderr",
     "output_type": "stream",
     "text": [
      "Auto-assigning NUTS sampler...\n",
      "Initializing NUTS using jitter+adapt_diag...\n",
      "Multiprocess sampling (8 chains in 8 jobs)\n",
      "NUTS: [sd, DistToTown, EstHouses, AveAddRooms, AveBedrmsPerRoom, AveOccup, MedInc, Intercept]\n",
      "Sampling 8 chains, 0 divergences: 100%|██████████| 56000/56000 [00:49<00:00, 1141.33draws/s]\n",
      "Auto-assigning NUTS sampler...\n",
      "Initializing NUTS using jitter+adapt_diag...\n",
      "Multiprocess sampling (8 chains in 8 jobs)\n",
      "NUTS: [sd, DistToTown, EstHouses, AveAddRooms, AveBedrmsPerRoom, AveOccup, MedInc, Intercept]\n",
      "Sampling 8 chains, 0 divergences: 100%|██████████| 56000/56000 [00:48<00:00, 1160.37draws/s]\n",
      "Auto-assigning NUTS sampler...\n",
      "Initializing NUTS using jitter+adapt_diag...\n",
      "Multiprocess sampling (8 chains in 8 jobs)\n",
      "NUTS: [sd, DistToTown, EstHouses, AveAddRooms, AveBedrmsPerRoom, AveOccup, MedInc, Intercept]\n",
      "Sampling 8 chains, 0 divergences: 100%|██████████| 56000/56000 [00:47<00:00, 1167.21draws/s]\n",
      "Auto-assigning NUTS sampler...\n",
      "Initializing NUTS using jitter+adapt_diag...\n",
      "Multiprocess sampling (8 chains in 8 jobs)\n",
      "NUTS: [sd, DistToTown, EstHouses, AveAddRooms, AveBedrmsPerRoom, AveOccup, MedInc, Intercept]\n",
      "Sampling 8 chains, 0 divergences: 100%|██████████| 56000/56000 [00:39<00:00, 1416.18draws/s]\n",
      "Auto-assigning NUTS sampler...\n",
      "Initializing NUTS using jitter+adapt_diag...\n",
      "Multiprocess sampling (8 chains in 8 jobs)\n",
      "NUTS: [sd, DistToTown, EstHouses, AveAddRooms, AveBedrmsPerRoom, AveOccup, MedInc, Intercept]\n",
      "Sampling 8 chains, 0 divergences: 100%|██████████| 56000/56000 [00:38<00:00, 1470.30draws/s]\n",
      "Auto-assigning NUTS sampler...\n",
      "Initializing NUTS using jitter+adapt_diag...\n",
      "Multiprocess sampling (8 chains in 8 jobs)\n",
      "NUTS: [sd, DistToTown, EstHouses, AveAddRooms, AveBedrmsPerRoom, AveOccup, MedInc, Intercept]\n",
      "Sampling 8 chains, 0 divergences: 100%|██████████| 56000/56000 [00:39<00:00, 1404.63draws/s]\n",
      "Auto-assigning NUTS sampler...\n",
      "Initializing NUTS using jitter+adapt_diag...\n",
      "Multiprocess sampling (8 chains in 8 jobs)\n",
      "NUTS: [sd, DistToTown, EstHouses, AveAddRooms, AveBedrmsPerRoom, AveOccup, MedInc, Intercept]\n",
      "Sampling 8 chains, 0 divergences: 100%|██████████| 56000/56000 [00:39<00:00, 1426.07draws/s]\n",
      "Auto-assigning NUTS sampler...\n",
      "Initializing NUTS using jitter+adapt_diag...\n",
      "Multiprocess sampling (8 chains in 8 jobs)\n",
      "NUTS: [sd, DistToTown, EstHouses, AveAddRooms, AveBedrmsPerRoom, AveOccup, MedInc, Intercept]\n",
      "Sampling 8 chains, 0 divergences: 100%|██████████| 56000/56000 [00:39<00:00, 1407.01draws/s]\n",
      "Auto-assigning NUTS sampler...\n",
      "Initializing NUTS using jitter+adapt_diag...\n",
      "Multiprocess sampling (8 chains in 8 jobs)\n",
      "NUTS: [sd, DistToTown, EstHouses, AveAddRooms, AveBedrmsPerRoom, AveOccup, MedInc, Intercept]\n",
      "Sampling 8 chains, 0 divergences: 100%|██████████| 56000/56000 [00:40<00:00, 1372.13draws/s]\n",
      "Auto-assigning NUTS sampler...\n",
      "Initializing NUTS using jitter+adapt_diag...\n",
      "Multiprocess sampling (8 chains in 8 jobs)\n",
      "NUTS: [sd, DistToTown, EstHouses, AveAddRooms, AveBedrmsPerRoom, AveOccup, MedInc, Intercept]\n",
      "Sampling 8 chains, 0 divergences: 100%|██████████| 56000/56000 [00:38<00:00, 1445.28draws/s]\n",
      "Auto-assigning NUTS sampler...\n",
      "Initializing NUTS using jitter+adapt_diag...\n",
      "Multiprocess sampling (8 chains in 8 jobs)\n",
      "NUTS: [sd, DistToTown, EstHouses, AveAddRooms, AveBedrmsPerRoom, AveOccup, MedInc, Intercept]\n",
      "Sampling 8 chains, 0 divergences: 100%|██████████| 56000/56000 [00:36<00:00, 1521.63draws/s]\n",
      "Auto-assigning NUTS sampler...\n",
      "Initializing NUTS using jitter+adapt_diag...\n",
      "Multiprocess sampling (8 chains in 8 jobs)\n",
      "NUTS: [sd, DistToTown, EstHouses, AveAddRooms, AveBedrmsPerRoom, AveOccup, MedInc, Intercept]\n",
      "Sampling 8 chains, 0 divergences: 100%|██████████| 56000/56000 [00:39<00:00, 1430.64draws/s]\n",
      "Auto-assigning NUTS sampler...\n",
      "Initializing NUTS using jitter+adapt_diag...\n",
      "Multiprocess sampling (8 chains in 8 jobs)\n",
      "NUTS: [sd, DistToTown, EstHouses, AveAddRooms, AveBedrmsPerRoom, AveOccup, MedInc, Intercept]\n",
      "Sampling 8 chains, 0 divergences: 100%|██████████| 56000/56000 [00:37<00:00, 1505.17draws/s]\n",
      "Auto-assigning NUTS sampler...\n",
      "Initializing NUTS using jitter+adapt_diag...\n",
      "Multiprocess sampling (8 chains in 8 jobs)\n",
      "NUTS: [sd, DistToTown, EstHouses, AveAddRooms, AveBedrmsPerRoom, AveOccup, MedInc, Intercept]\n",
      "Sampling 8 chains, 0 divergences: 100%|██████████| 56000/56000 [00:38<00:00, 1440.37draws/s]\n",
      "Auto-assigning NUTS sampler...\n",
      "Initializing NUTS using jitter+adapt_diag...\n",
      "Multiprocess sampling (8 chains in 8 jobs)\n",
      "NUTS: [sd, DistToTown, EstHouses, AveAddRooms, AveBedrmsPerRoom, AveOccup, MedInc, Intercept]\n",
      "Sampling 8 chains, 0 divergences: 100%|██████████| 56000/56000 [00:39<00:00, 1407.26draws/s]\n",
      "Auto-assigning NUTS sampler...\n",
      "Initializing NUTS using jitter+adapt_diag...\n",
      "Multiprocess sampling (8 chains in 8 jobs)\n",
      "NUTS: [sd, DistToTown, EstHouses, AveAddRooms, AveBedrmsPerRoom, AveOccup, MedInc, Intercept]\n",
      "Sampling 8 chains, 0 divergences: 100%|██████████| 56000/56000 [00:38<00:00, 1440.18draws/s]\n",
      "Auto-assigning NUTS sampler...\n",
      "Initializing NUTS using jitter+adapt_diag...\n",
      "Multiprocess sampling (8 chains in 8 jobs)\n",
      "NUTS: [sd, DistToTown, EstHouses, AveAddRooms, AveBedrmsPerRoom, AveOccup, MedInc, Intercept]\n",
      "Sampling 8 chains, 0 divergences: 100%|██████████| 56000/56000 [00:40<00:00, 1373.20draws/s]\n",
      "Auto-assigning NUTS sampler...\n",
      "Initializing NUTS using jitter+adapt_diag...\n",
      "Multiprocess sampling (8 chains in 8 jobs)\n",
      "NUTS: [sd, DistToTown, EstHouses, AveAddRooms, AveBedrmsPerRoom, AveOccup, MedInc, Intercept]\n",
      "Sampling 8 chains, 0 divergences: 100%|██████████| 56000/56000 [00:44<00:00, 1259.57draws/s]\n"
     ]
    },
    {
     "data": {
      "text/plain": [
       "StackingRegressor(estimators=[('bayesian_reg0',\n",
       "                               BayesianLinearRegression(features=Index(['MedInc', 'AveOccup', 'AveBedrmsPerRoom', 'AveAddRooms', 'EstHouses',\n",
       "       'DistToTown'],\n",
       "      dtype='object'),\n",
       "                                                        is_frame=False,\n",
       "                                                        target='MedHouseVal')),\n",
       "                              ('bayesian_reg1',\n",
       "                               BayesianLinearRegression(features=Index(['MedInc', 'AveOccup', 'AveBedrmsPerRoom', 'AveAddRooms', 'EstHouses',\n",
       "       'DistT...\n",
       "      dtype='object'),\n",
       "                                                        is_frame=False,\n",
       "                                                        target='MedHouseVal'))],\n",
       "                  final_estimator=StackingRegressor(estimators=[('forest_reg0',\n",
       "                                                                 RandomForestRegressor(max_depth=10,\n",
       "                                                                                       n_estimators=10)),\n",
       "                                                                ('forest_reg1',\n",
       "                                                                 RandomForestRegressor(max_depth=10,\n",
       "                                                                                       n_estimators=10)),\n",
       "                                                                ('forest_reg2',\n",
       "                                                                 RandomForestRegressor(max_depth=10,\n",
       "                                                                                       n_estimators=10))],\n",
       "                                                    final_estimator=DecisionTreeRegressor(max_depth=10)))"
      ]
     },
     "execution_count": 52,
     "metadata": {},
     "output_type": "execute_result"
    }
   ],
   "source": [
    "layered_br_stack.fit(X_train, np.ravel(y_train))"
   ]
  },
  {
   "cell_type": "markdown",
   "metadata": {},
   "source": []
  },
  {
   "cell_type": "code",
   "execution_count": 55,
   "metadata": {},
   "outputs": [
    {
     "data": {
      "text/plain": [
       "0.5697081398908463"
      ]
     },
     "execution_count": 55,
     "metadata": {},
     "output_type": "execute_result"
    }
   ],
   "source": [
    "layered_br_stack.score(X_test, y_test)"
   ]
  },
  {
   "cell_type": "code",
   "execution_count": 56,
   "metadata": {},
   "outputs": [
    {
     "data": {
      "text/plain": [
       "0.5680482018635866"
      ]
     },
     "execution_count": 56,
     "metadata": {},
     "output_type": "execute_result"
    }
   ],
   "source": [
    "layered_br_stack.score(X_train, y_train)"
   ]
  },
  {
   "cell_type": "markdown",
   "metadata": {},
   "source": [
    "- It seems further stacking has not produced better results. \n",
    "- Give reasons why"
   ]
  },
  {
   "cell_type": "markdown",
   "metadata": {},
   "source": [
    "## Ensemble Conclusion"
   ]
  },
  {
   "cell_type": "markdown",
   "metadata": {},
   "source": [
    "### Comparison of random forest and stacking\n",
    "\n",
    "- Final table of results\n",
    "- Comparison of random forest and stacking methods\n",
    "  - Accuracy\n",
    "  - Computational complexity\n",
    "  - Data needed\n",
    "  - Generalisation / ease of use"
   ]
  }
 ],
 "metadata": {
  "kernelspec": {
   "display_name": "Python 3",
   "language": "python",
   "name": "python3"
  },
  "language_info": {
   "codemirror_mode": {
    "name": "ipython",
    "version": 3
   },
   "file_extension": ".py",
   "mimetype": "text/x-python",
   "name": "python",
   "nbconvert_exporter": "python",
   "pygments_lexer": "ipython3",
   "version": "3.8.5"
  }
 },
 "nbformat": 4,
 "nbformat_minor": 4
}

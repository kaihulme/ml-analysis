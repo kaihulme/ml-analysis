import numpy as np
import pandas as pd
import pymc3 as pm
import theano.tensor as tt
import matplotlib.pyplot as plt
from sklearn.datasets import fetch_california_housing
from sklearn.model_selection import train_test_split
from sklearn.preprocessing import StandardScaler
from scipy.stats import zscore


housing_data = fetch_california_housing(as_frame=True)

df = housing_data['frame']
print(df.columns)


print(df.dtypes)


latitude = df['Latitude']
longitude = df['Longitude']

fig, ax = plt.subplots(figsize=(12, 8))
plt.title("Geographical Plot of California Housing Data")
plt.xlabel("Latitude")
plt.ylabel("Longitude")
plt.scatter(latitude, longitude, s=10, alpha=0.25)
plt.show()


house_val = df['MedHouseVal']
population = df['Population']

fig, ax = plt.subplots(figsize=(12, 8))
plt.title("California Housing Value and Geographical Location")
plt.xlabel("Latitude")
plt.ylabel("Longitude")
plt.scatter(latitude, longitude, s=population/100, alpha=0.5, c=house_val, cmap='coolwarm')
plt.colorbar().set_label("Median House Value (scale of 0-5)")
plt.show()


df.describe()


non_geo = ['MedInc', 'HouseAge', 'AveRooms', 'AveBedrms',
           'Population', 'AveOccup', 'MedHouseVal']

corr = df[non_geo].corr()
print(corr)


fig, ax = plt.subplots(figsize=(12, 8))
ax.set_title("Correlation of Non-Geographical Features", fontsize=16)
mat = ax.matshow(corr)
ax.set_xticks(range(len(non_geo)))
ax.set_yticks(range(len(non_geo)))
ax.set_xticklabels(non_geo, rotation=-90, fontsize=12)
ax.set_yticklabels(non_geo, fontsize=12)
plt.colorbar(mat, ax=ax)
plt.show()


df_nohigh = df[non_geo].astype(float)
df_nohigh = df_nohigh.drop(df_nohigh[(df_nohigh['MedInc'] > 10) |
                                     (df_nohigh['HouseAge'] > 50) |
                                     (df_nohigh['AveRooms'] > 10) |
                                     (df_nohigh['AveBedrms'] > 2) |
                                     (df_nohigh['Population'] > 6000) |
                                     (df_nohigh['AveOccup'] > 8) |
                                     (df_nohigh['MedHouseVal'] > 4.7)].index)


df_nohigh.hist(bins=50, figsize=(16, 16))


df.isnull().sum()


# handle outliers


# handle capped features


print(df.columns)


df['AveBedrmsPerRoom'] = df['AveBedrms'] / df['AveRooms']
df['AveBedrmsPerOccup'] = df['AveBedrms'] / df['AveOccup']
df['AveAddRooms'] = df['AveRooms'] - df['AveBedrms']
df['EstHouses'] = df['Population'] / df['AveOccup']


new_features = ['MedHouseVal', 'AveBedrmsPerRoom', 'AveBedrmsPerOccup', 
                'AveAddRooms', 'EstHouses']

new_features_corr = df[new_features].corr()

fig, ax = plt.subplots(figsize=(12,8))
ax.set_title("Correlation of Non-Geographical Features", fontsize=16)
mat = ax.matshow(new_features_corr)
ax.set_xticks(range(len(new_features)))
ax.set_yticks(range(len(new_features)))
ax.set_xticklabels(new_features, rotation=-90, fontsize=12)
ax.set_yticklabels(new_features, fontsize=12)
plt.colorbar(mat, ax=ax)
plt.show()


corr = df.corr()
print(corr["MedHouseVal"].abs().sort_values(ascending=False))


print(df.columns)


X_features = ['MedInc', 'HouseAge', 'AveRooms', 'AveBedrms',
              'Population', 'AveOccup', 'Latitude', 'Longitude',
              'AveBedrmsPerRoom', 'AveBedrmsPerOccup',
              'AveAddRooms', 'EstHouses']
y_features = ['MedHouseVal']

data = df
X = df[X_features]
y = df[y_features]


X_train, X_test, y_train, y_test = train_test_split(X, y, test_size=0.2)


data_train = pd.concat((y_train, X_train), axis=1)
data_test = pd.concat((y_test, X_test), axis=1)


def bayesian_linreg(data, formula):
    with pm.Model() as model:
        # Normal prior
        family = pm.glm.families.Normal()
        # Create model from formula
        pm.GLM.from_formula(formula, data=data_train, family=family)
        return model


def sample_model(n_samples=1000, n_tune=500, n_cores=2):
    trace = pm.sample(draws=n_samples, tune=n_tune,
                      progressbar=True, cores=n_cores)
    return trace


samples = 3000
tune = 500
cores = 16

formula = "MedHouseVal ~ MedInc + HouseAge + AveRooms + Latitude + Longitude\
           + AveBedrmsPerRoom + AveAddRooms + AveBedrmsPerOccup + EstHouses\
           + AveBedrms + Population + AveOccup"

with bayesian_linreg(data_train, formula):
    bayesian_linreg_trace = sample_model(samples, tune, cores)


pm.traceplot(bayesian_linreg_trace)


pm.plot_posterior(bayesian_linreg_trace)


print(corr["MedHouseVal"].abs().sort_values(ascending=False))


drop_features = ['AveBedrmsPerOccup', 'EstHouses', 'AveBedrms',
                 'Population', 'AveOccup']
X_train_less = X_train.drop(drop_features, axis=1, inplace=False)
data_train_less = data_train.drop(drop_features, axis=1, inplace=False)


print(data_train_less.columns)


formula = "MedHouseVal ~ MedInc + HouseAge + AveRooms + Latitude\
           + Longitude + AveBedrmsPerRoom + AveAddRooms"

with bayesian_linreg(data_train_less, formula):
    bayesian_linreg_trace = sample_model(3000, n_tune=5000, n_cores=16)


data_train_less.columns


data_train_less.hist(figsize=(12, 8))


new_data = data_train_less

new_data["MedHouseVal"] = np.log1p(new_data['MedHouseVal'])
new_data["MedInc"] = np.log1p(new_data['MedInc'])
new_data["AveRooms"] = np.log1p(new_data['AveRooms'])
new_data["AveBedrmsPerRoom"] = np.log1p(new_data['AveBedrmsPerRoom'])
new_data["AveAddRooms"] = np.log1p(new_data['AveAddRooms'])

new_data.hist(figsize=(12, 8))


# LA location as north-westerly peak
la_lat, la_lon = 33, -117
# SF location as south-easterly peak
sf_lat, sf_lon = 37, -121

new_data['DistToLA'] = np.sqrt((new_data['Latitude'] - la_lat)**2 +
                               (new_data['Longitude'] - la_lon)**2)
new_data['DistToSF'] = np.sqrt((new_data['Latitude'] - sf_lat)**2 +
                               (new_data['Longitude'] - sf_lon)**2)

new_data['DistToCity'] = new_data[['DistToLA', 'DistToSF']].min(axis=1)


features = ['MedHouseVal', 'MedInc', 'HouseAge', 'AveBedrmsPerRoom',
            'AveAddRooms', 'DistToCity']

new_data = new_data[features]

new_data.hist(figsize=(12,8))


scaler = StandardScaler()
scaled_data = scaler.fit_transform(new_data)

print(scaled_data)


scaled_df = pd.DataFrame(scaled_data, columns=features)

scaled_df.hist(figsize=(12, 8), bins=50)


scaled_df.isnull().sum()


print(features)


formula = "MedHouseVal ~ MedInc + HouseAge +\
           AveBedrmsPerRoom + AveAddRooms + DistToCity"

with pm.Model() as model:
    # Normal prior
    family = pm.glm.families.Normal()
    # Create model from formula
    pm.GLM.from_formula(formula, data=scaled_df, family=family)
    trace = pm.sample(draws=8000, tune=2000,
                      progressbar=True, cores=16)

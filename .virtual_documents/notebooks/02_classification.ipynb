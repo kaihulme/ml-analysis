import numpy as np
import matplotlib.pyplot as plt
from sklearn.datasets import fetch_openml
from sklearn.model_selection import train_test_split
from tensorflow.keras.models import Sequential
from tensorflow.keras.layers import Flatten, Dense
from tensorflow.keras.optimizers import SGD


X, y = fetch_openml('mnist_784', return_X_y=True)
n_classes = 10


X = np.array(X / 255)
y = np.array(y, dtype='int')

print(f"X shape: {X.shape}, y shape: {y.shape}")
print(f"Image shape: {X[0].shape}")


# train and test sets
X_train, X_test, y_train, y_test = train_test_split(X, y, test_size=0.2)

# remove a validation set from the training data
X_train, X_val, y_train, y_val = train_test_split(X_train, y_train, test_size=0.2)


print(X.shape[0])
print(X_train.shape[0])
print(X_val.shape[0])
print(X_test.shape[0])


# perceptron


model = Sequential()
model.add(Dense(300, activation="relu", input_shape=[784]))
model.add(Dense(100, activation="relu"))
model.add(Dense(10, activation="softmax"))

model.compile(loss="sparse_categorical_crossentropy", optimizer='sgd', metrics=["accuracy"])


model.summary()


history = model.fit(X_train, y_train, epochs=10, validation_data=(X_val, y_val))


model = Sequential()
model.add(Dense(500, activation="relu", input_shape=[784]))
model.add(Dense(400, activation="relu"))
model.add(Dense(300, activation="relu"))
model.add(Dense(200, activation="relu"))
model.add(Dense(100, activation="relu"))
model.add(Dense(50, activation="relu"))
model.add(Dense(25, activation="relu"))
model.add(Dense(10, activation="softmax"))

model.compile(loss="sparse_categorical_crossentropy", optimizer='sgd', metrics=["accuracy"])


history = model.fit(X_train, y_train, epochs=20, validation_data=(X_val, y_val))


# various examples from above


# Basic CNN



